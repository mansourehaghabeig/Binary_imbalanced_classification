{
 "cells": [
  {
   "cell_type": "markdown",
   "metadata": {},
   "source": [
    "## Data Scientist Case Study\n",
    "<p style='text-align: justify;'>\n",
    "A customer wants to be able to identify items corresponding to their label == 1 from their products. They need to be able to screen them with a high recall, that is avoiding false negatives.\n",
    "\n",
    " \n",
    "\n",
    "They have measured a set of items (labeled by sample_id) with multiple sensors (labeled by sensor_id).\n",
    "\n",
    " \n",
    "\n",
    "Do a quick feasibility study.\n",
    "\n",
    "    * How accurately can the labels be identified in this dataset?\n",
    "    * Is the dataset large and diverse enough? Please elaborate on why your answer is yes or no.\n",
    "    * How would you scale this to a production model? \n",
    "\n",
    "The model needs to be able to make the prediction only based on the feature values, i.e., it cannot use the parameters ‘sample’ and ‘sensor id'.\n",
    "\n",
    "Use Python plus Python packages to realize your solution.</p>\n",
    "\n"
   ]
  },
  {
   "cell_type": "markdown",
   "metadata": {},
   "source": [
    "### Structure\n",
    "* **Import libraries and setup Dataframes**\n",
    "* **Exploratory data analysis (EDA)**\n",
    "* **Prepare the Data (preprocessing)**\n",
    "* **Choose the model**\n",
    "* **Train the model**\n",
    "* **Make prediction**\n",
    "* **Summary of Results** \n"
   ]
  },
  {
   "cell_type": "markdown",
   "metadata": {},
   "source": [
    "### Import Libraries & Setup Data"
   ]
  },
  {
   "cell_type": "code",
   "execution_count": 1,
   "metadata": {},
   "outputs": [],
   "source": [
    "import warnings\n",
    "warnings.filterwarnings('ignore')\n",
    "import os\n",
    "import pandas as pd\n",
    "import numpy as np\n",
    "import matplotlib.pyplot as plt\n",
    "import seaborn as sns\n",
    "from sklearn import metrics \n",
    "from sklearn.linear_model import LogisticRegression\n",
    "from sklearn import tree\n",
    "from sklearn.ensemble import RandomForestClassifier\n",
    "from sklearn.svm import SVC\n",
    "from sklearn.neighbors import KNeighborsClassifier\n",
    "from sklearn.naive_bayes import GaussianNB\n",
    "from sklearn.model_selection import cross_val_score\n",
    "from sklearn import metrics\n"
   ]
  },
  {
   "cell_type": "code",
   "execution_count": 2,
   "metadata": {},
   "outputs": [
    {
     "data": {
      "text/html": [
       "<div>\n",
       "<style scoped>\n",
       "    .dataframe tbody tr th:only-of-type {\n",
       "        vertical-align: middle;\n",
       "    }\n",
       "\n",
       "    .dataframe tbody tr th {\n",
       "        vertical-align: top;\n",
       "    }\n",
       "\n",
       "    .dataframe thead th {\n",
       "        text-align: right;\n",
       "    }\n",
       "</style>\n",
       "<table border=\"1\" class=\"dataframe\">\n",
       "  <thead>\n",
       "    <tr style=\"text-align: right;\">\n",
       "      <th></th>\n",
       "      <th>sensor_id</th>\n",
       "      <th>sample_id</th>\n",
       "      <th>label</th>\n",
       "      <th>feature_0</th>\n",
       "      <th>feature_1</th>\n",
       "      <th>feature_2</th>\n",
       "      <th>feature_3</th>\n",
       "      <th>feature_4</th>\n",
       "      <th>feature_5</th>\n",
       "      <th>feature_6</th>\n",
       "      <th>...</th>\n",
       "      <th>feature_191</th>\n",
       "      <th>feature_192</th>\n",
       "      <th>feature_193</th>\n",
       "      <th>feature_194</th>\n",
       "      <th>feature_195</th>\n",
       "      <th>feature_196</th>\n",
       "      <th>feature_197</th>\n",
       "      <th>feature_198</th>\n",
       "      <th>feature_199</th>\n",
       "      <th>feature_200</th>\n",
       "    </tr>\n",
       "  </thead>\n",
       "  <tbody>\n",
       "    <tr>\n",
       "      <th>0</th>\n",
       "      <td>0</td>\n",
       "      <td>0</td>\n",
       "      <td>-1</td>\n",
       "      <td>0.3382</td>\n",
       "      <td>0.3386</td>\n",
       "      <td>0.3391</td>\n",
       "      <td>0.3396</td>\n",
       "      <td>0.3403</td>\n",
       "      <td>0.3411</td>\n",
       "      <td>0.3420</td>\n",
       "      <td>...</td>\n",
       "      <td>0.4345</td>\n",
       "      <td>0.4340</td>\n",
       "      <td>0.4333</td>\n",
       "      <td>0.4324</td>\n",
       "      <td>0.4312</td>\n",
       "      <td>0.4299</td>\n",
       "      <td>0.4283</td>\n",
       "      <td>0.4267</td>\n",
       "      <td>0.4249</td>\n",
       "      <td>0.4232</td>\n",
       "    </tr>\n",
       "    <tr>\n",
       "      <th>1</th>\n",
       "      <td>1</td>\n",
       "      <td>0</td>\n",
       "      <td>-1</td>\n",
       "      <td>0.4883</td>\n",
       "      <td>0.4888</td>\n",
       "      <td>0.4896</td>\n",
       "      <td>0.4905</td>\n",
       "      <td>0.4915</td>\n",
       "      <td>0.4925</td>\n",
       "      <td>0.4937</td>\n",
       "      <td>...</td>\n",
       "      <td>0.5722</td>\n",
       "      <td>0.5714</td>\n",
       "      <td>0.5707</td>\n",
       "      <td>0.5698</td>\n",
       "      <td>0.5687</td>\n",
       "      <td>0.5673</td>\n",
       "      <td>0.5658</td>\n",
       "      <td>0.5641</td>\n",
       "      <td>0.5624</td>\n",
       "      <td>0.5605</td>\n",
       "    </tr>\n",
       "    <tr>\n",
       "      <th>2</th>\n",
       "      <td>2</td>\n",
       "      <td>0</td>\n",
       "      <td>-1</td>\n",
       "      <td>0.4875</td>\n",
       "      <td>0.4882</td>\n",
       "      <td>0.4891</td>\n",
       "      <td>0.4899</td>\n",
       "      <td>0.4910</td>\n",
       "      <td>0.4922</td>\n",
       "      <td>0.4935</td>\n",
       "      <td>...</td>\n",
       "      <td>0.5784</td>\n",
       "      <td>0.5777</td>\n",
       "      <td>0.5768</td>\n",
       "      <td>0.5757</td>\n",
       "      <td>0.5743</td>\n",
       "      <td>0.5728</td>\n",
       "      <td>0.5711</td>\n",
       "      <td>0.5693</td>\n",
       "      <td>0.5678</td>\n",
       "      <td>0.5663</td>\n",
       "    </tr>\n",
       "  </tbody>\n",
       "</table>\n",
       "<p>3 rows × 204 columns</p>\n",
       "</div>"
      ],
      "text/plain": [
       "   sensor_id  sample_id  label  feature_0  feature_1  feature_2  feature_3  \\\n",
       "0          0          0     -1     0.3382     0.3386     0.3391     0.3396   \n",
       "1          1          0     -1     0.4883     0.4888     0.4896     0.4905   \n",
       "2          2          0     -1     0.4875     0.4882     0.4891     0.4899   \n",
       "\n",
       "   feature_4  feature_5  feature_6  ...  feature_191  feature_192  \\\n",
       "0     0.3403     0.3411     0.3420  ...       0.4345       0.4340   \n",
       "1     0.4915     0.4925     0.4937  ...       0.5722       0.5714   \n",
       "2     0.4910     0.4922     0.4935  ...       0.5784       0.5777   \n",
       "\n",
       "   feature_193  feature_194  feature_195  feature_196  feature_197  \\\n",
       "0       0.4333       0.4324       0.4312       0.4299       0.4283   \n",
       "1       0.5707       0.5698       0.5687       0.5673       0.5658   \n",
       "2       0.5768       0.5757       0.5743       0.5728       0.5711   \n",
       "\n",
       "   feature_198  feature_199  feature_200  \n",
       "0       0.4267       0.4249       0.4232  \n",
       "1       0.5641       0.5624       0.5605  \n",
       "2       0.5693       0.5678       0.5663  \n",
       "\n",
       "[3 rows x 204 columns]"
      ]
     },
     "execution_count": 2,
     "metadata": {},
     "output_type": "execute_result"
    }
   ],
   "source": [
    "# Import data\n",
    "df = pd.read_csv(\"exercise.csv\")\n",
    "\n",
    "\n",
    "# check the data\n",
    "df.head(3)\n",
    "#df_test.shape"
   ]
  },
  {
   "cell_type": "code",
   "execution_count": 3,
   "metadata": {},
   "outputs": [
    {
     "name": "stdout",
     "output_type": "stream",
     "text": [
      "<class 'pandas.core.frame.DataFrame'>\n",
      "RangeIndex: 565 entries, 0 to 564\n",
      "Columns: 204 entries, sensor_id to feature_200\n",
      "dtypes: float64(201), int64(3)\n",
      "memory usage: 900.6 KB\n"
     ]
    }
   ],
   "source": [
    "df.info()"
   ]
  },
  {
   "cell_type": "code",
   "execution_count": 4,
   "metadata": {},
   "outputs": [
    {
     "data": {
      "text/plain": [
       "(565, 204)"
      ]
     },
     "execution_count": 4,
     "metadata": {},
     "output_type": "execute_result"
    }
   ],
   "source": [
    "df.shape"
   ]
  },
  {
   "cell_type": "markdown",
   "metadata": {},
   "source": [
    "### Exploratory data analysis (EDA)"
   ]
  },
  {
   "cell_type": "code",
   "execution_count": 5,
   "metadata": {},
   "outputs": [
    {
     "data": {
      "text/plain": [
       "Text(0.5, 1.0, 'Target variable count')"
      ]
     },
     "execution_count": 5,
     "metadata": {},
     "output_type": "execute_result"
    },
    {
     "data": {
      "image/png": "[encoded data removed]",
      "text/plain": [
       "<Figure size 432x288 with 1 Axes>"
      ]
     },
     "metadata": {
      "needs_background": "light"
     },
     "output_type": "display_data"
    }
   ],
   "source": [
    "x=df['label'].value_counts().values\n",
    "sns.barplot([-1,1],x)\n",
    "plt.title('Target variable count')"
   ]
  },
  {
   "cell_type": "markdown",
   "metadata": {},
   "source": [
    "* There is clearly a class imbalace problem.\n",
    "*  We will look into methods of solving this issue later in this notebook.\n",
    " "
   ]
  },
  {
   "cell_type": "markdown",
   "metadata": {},
   "source": [
    "### Make balance dataset"
   ]
  },
  {
   "cell_type": "markdown",
   "metadata": {},
   "source": [
    "Oversampling can be defined as adding more copies of the minority class. Oversampling can be a good choice when you don’t have a ton of data to work with.\n",
    "\n",
    "We will use the resampling module from Scikit-Learn to randomly replicate samples from the minority class.\n"
   ]
  },
  {
   "cell_type": "code",
   "execution_count": 6,
   "metadata": {},
   "outputs": [
    {
     "data": {
      "text/html": [
       "<div>\n",
       "<style scoped>\n",
       "    .dataframe tbody tr th:only-of-type {\n",
       "        vertical-align: middle;\n",
       "    }\n",
       "\n",
       "    .dataframe tbody tr th {\n",
       "        vertical-align: top;\n",
       "    }\n",
       "\n",
       "    .dataframe thead th {\n",
       "        text-align: right;\n",
       "    }\n",
       "</style>\n",
       "<table border=\"1\" class=\"dataframe\">\n",
       "  <thead>\n",
       "    <tr style=\"text-align: right;\">\n",
       "      <th></th>\n",
       "      <th>label</th>\n",
       "      <th>feature_0</th>\n",
       "      <th>feature_1</th>\n",
       "      <th>feature_2</th>\n",
       "      <th>feature_3</th>\n",
       "      <th>feature_4</th>\n",
       "      <th>feature_5</th>\n",
       "      <th>feature_6</th>\n",
       "      <th>feature_7</th>\n",
       "      <th>feature_8</th>\n",
       "      <th>...</th>\n",
       "      <th>feature_191</th>\n",
       "      <th>feature_192</th>\n",
       "      <th>feature_193</th>\n",
       "      <th>feature_194</th>\n",
       "      <th>feature_195</th>\n",
       "      <th>feature_196</th>\n",
       "      <th>feature_197</th>\n",
       "      <th>feature_198</th>\n",
       "      <th>feature_199</th>\n",
       "      <th>feature_200</th>\n",
       "    </tr>\n",
       "  </thead>\n",
       "  <tbody>\n",
       "    <tr>\n",
       "      <th>0</th>\n",
       "      <td>-1</td>\n",
       "      <td>0.3382</td>\n",
       "      <td>0.3386</td>\n",
       "      <td>0.3391</td>\n",
       "      <td>0.3396</td>\n",
       "      <td>0.3403</td>\n",
       "      <td>0.3411</td>\n",
       "      <td>0.3420</td>\n",
       "      <td>0.3430</td>\n",
       "      <td>0.3441</td>\n",
       "      <td>...</td>\n",
       "      <td>0.4345</td>\n",
       "      <td>0.4340</td>\n",
       "      <td>0.4333</td>\n",
       "      <td>0.4324</td>\n",
       "      <td>0.4312</td>\n",
       "      <td>0.4299</td>\n",
       "      <td>0.4283</td>\n",
       "      <td>0.4267</td>\n",
       "      <td>0.4249</td>\n",
       "      <td>0.4232</td>\n",
       "    </tr>\n",
       "    <tr>\n",
       "      <th>1</th>\n",
       "      <td>-1</td>\n",
       "      <td>0.4883</td>\n",
       "      <td>0.4888</td>\n",
       "      <td>0.4896</td>\n",
       "      <td>0.4905</td>\n",
       "      <td>0.4915</td>\n",
       "      <td>0.4925</td>\n",
       "      <td>0.4937</td>\n",
       "      <td>0.4949</td>\n",
       "      <td>0.4963</td>\n",
       "      <td>...</td>\n",
       "      <td>0.5722</td>\n",
       "      <td>0.5714</td>\n",
       "      <td>0.5707</td>\n",
       "      <td>0.5698</td>\n",
       "      <td>0.5687</td>\n",
       "      <td>0.5673</td>\n",
       "      <td>0.5658</td>\n",
       "      <td>0.5641</td>\n",
       "      <td>0.5624</td>\n",
       "      <td>0.5605</td>\n",
       "    </tr>\n",
       "    <tr>\n",
       "      <th>2</th>\n",
       "      <td>-1</td>\n",
       "      <td>0.4875</td>\n",
       "      <td>0.4882</td>\n",
       "      <td>0.4891</td>\n",
       "      <td>0.4899</td>\n",
       "      <td>0.4910</td>\n",
       "      <td>0.4922</td>\n",
       "      <td>0.4935</td>\n",
       "      <td>0.4950</td>\n",
       "      <td>0.4965</td>\n",
       "      <td>...</td>\n",
       "      <td>0.5784</td>\n",
       "      <td>0.5777</td>\n",
       "      <td>0.5768</td>\n",
       "      <td>0.5757</td>\n",
       "      <td>0.5743</td>\n",
       "      <td>0.5728</td>\n",
       "      <td>0.5711</td>\n",
       "      <td>0.5693</td>\n",
       "      <td>0.5678</td>\n",
       "      <td>0.5663</td>\n",
       "    </tr>\n",
       "  </tbody>\n",
       "</table>\n",
       "<p>3 rows × 202 columns</p>\n",
       "</div>"
      ],
      "text/plain": [
       "   label  feature_0  feature_1  feature_2  feature_3  feature_4  feature_5  \\\n",
       "0     -1     0.3382     0.3386     0.3391     0.3396     0.3403     0.3411   \n",
       "1     -1     0.4883     0.4888     0.4896     0.4905     0.4915     0.4925   \n",
       "2     -1     0.4875     0.4882     0.4891     0.4899     0.4910     0.4922   \n",
       "\n",
       "   feature_6  feature_7  feature_8  ...  feature_191  feature_192  \\\n",
       "0     0.3420     0.3430     0.3441  ...       0.4345       0.4340   \n",
       "1     0.4937     0.4949     0.4963  ...       0.5722       0.5714   \n",
       "2     0.4935     0.4950     0.4965  ...       0.5784       0.5777   \n",
       "\n",
       "   feature_193  feature_194  feature_195  feature_196  feature_197  \\\n",
       "0       0.4333       0.4324       0.4312       0.4299       0.4283   \n",
       "1       0.5707       0.5698       0.5687       0.5673       0.5658   \n",
       "2       0.5768       0.5757       0.5743       0.5728       0.5711   \n",
       "\n",
       "   feature_198  feature_199  feature_200  \n",
       "0       0.4267       0.4249       0.4232  \n",
       "1       0.5641       0.5624       0.5605  \n",
       "2       0.5693       0.5678       0.5663  \n",
       "\n",
       "[3 rows x 202 columns]"
      ]
     },
     "execution_count": 6,
     "metadata": {},
     "output_type": "execute_result"
    }
   ],
   "source": [
    "df.drop(['sensor_id','sample_id'], axis =1, inplace= True)\n",
    "\n",
    "# check the data\n",
    "df.head(3)\n",
    "#df_test.shape"
   ]
  },
  {
   "cell_type": "code",
   "execution_count": 7,
   "metadata": {},
   "outputs": [],
   "source": [
    "# from imblearn.over_sampling import RandomOverSampler\n",
    "# oversample = RandomOverSampler(sampling_strategy='minority')\n",
    "# X = df.drop(['label'], axis=1)\n",
    "# y = df['label']\n",
    "\n",
    "# # define oversampling strategy\n",
    "# oversample = RandomOverSampler(sampling_strategy='minority')\n",
    "# # fit and apply the transform\n",
    "# X_over, y_over = oversample.fit_resample(X, y)\n",
    "\n",
    "# df=pd.concat([X_over,y_over],axis=1)"
   ]
  },
  {
   "cell_type": "code",
   "execution_count": 8,
   "metadata": {},
   "outputs": [],
   "source": [
    "from imblearn.over_sampling import RandomOverSampler\n",
    "from imblearn.under_sampling import RandomUnderSampler\n",
    "X = df.drop(['label'], axis=1)\n",
    "y = df['label']\n",
    "\n",
    "# define oversampling strategy\n",
    "over = RandomOverSampler(sampling_strategy=0.1)\n",
    "# fit and apply the transform\n",
    "X, y = over.fit_resample(X, y)\n",
    "\n",
    "# define undersampling strategy\n",
    "under = RandomUnderSampler(sampling_strategy=0.5)\n",
    "# fit and apply the transform\n",
    "X, y = under.fit_resample(X, y)\n",
    "\n",
    "df=pd.concat([X,y],axis=1)"
   ]
  },
  {
   "cell_type": "code",
   "execution_count": 9,
   "metadata": {},
   "outputs": [
    {
     "data": {
      "text/plain": [
       "Text(0.5, 1.0, 'Target variable count')"
      ]
     },
     "execution_count": 9,
     "metadata": {},
     "output_type": "execute_result"
    },
    {
     "data": {
      "image/png": "[encoded data removed]",
      "text/plain": [
       "<Figure size 432x288 with 1 Axes>"
      ]
     },
     "metadata": {
      "needs_background": "light"
     },
     "output_type": "display_data"
    }
   ],
   "source": [
    "x=df['label'].value_counts().values\n",
    "sns.barplot([-1,1],x)\n",
    "plt.title('Target variable count')"
   ]
  },
  {
   "cell_type": "code",
   "execution_count": 10,
   "metadata": {},
   "outputs": [
    {
     "data": {
      "text/plain": [
       "(162, 202)"
      ]
     },
     "execution_count": 10,
     "metadata": {},
     "output_type": "execute_result"
    }
   ],
   "source": [
    "df.shape"
   ]
  },
  {
   "cell_type": "code",
   "execution_count": 11,
   "metadata": {},
   "outputs": [
    {
     "data": {
      "text/html": [
       "<div>\n",
       "<style scoped>\n",
       "    .dataframe tbody tr th:only-of-type {\n",
       "        vertical-align: middle;\n",
       "    }\n",
       "\n",
       "    .dataframe tbody tr th {\n",
       "        vertical-align: top;\n",
       "    }\n",
       "\n",
       "    .dataframe thead th {\n",
       "        text-align: right;\n",
       "    }\n",
       "</style>\n",
       "<table border=\"1\" class=\"dataframe\">\n",
       "  <thead>\n",
       "    <tr style=\"text-align: right;\">\n",
       "      <th></th>\n",
       "      <th>feature_0</th>\n",
       "      <th>feature_1</th>\n",
       "      <th>feature_2</th>\n",
       "      <th>feature_3</th>\n",
       "      <th>feature_4</th>\n",
       "      <th>feature_5</th>\n",
       "      <th>feature_6</th>\n",
       "      <th>feature_7</th>\n",
       "      <th>feature_8</th>\n",
       "      <th>feature_9</th>\n",
       "      <th>...</th>\n",
       "      <th>feature_192</th>\n",
       "      <th>feature_193</th>\n",
       "      <th>feature_194</th>\n",
       "      <th>feature_195</th>\n",
       "      <th>feature_196</th>\n",
       "      <th>feature_197</th>\n",
       "      <th>feature_198</th>\n",
       "      <th>feature_199</th>\n",
       "      <th>feature_200</th>\n",
       "      <th>label</th>\n",
       "    </tr>\n",
       "  </thead>\n",
       "  <tbody>\n",
       "    <tr>\n",
       "      <th>0</th>\n",
       "      <td>0.4123</td>\n",
       "      <td>0.4122</td>\n",
       "      <td>0.4122</td>\n",
       "      <td>0.4125</td>\n",
       "      <td>0.4127</td>\n",
       "      <td>0.4132</td>\n",
       "      <td>0.4137</td>\n",
       "      <td>0.4144</td>\n",
       "      <td>0.4153</td>\n",
       "      <td>0.4164</td>\n",
       "      <td>...</td>\n",
       "      <td>0.4475</td>\n",
       "      <td>0.4470</td>\n",
       "      <td>0.4466</td>\n",
       "      <td>0.4460</td>\n",
       "      <td>0.4455</td>\n",
       "      <td>0.4452</td>\n",
       "      <td>0.4446</td>\n",
       "      <td>0.4443</td>\n",
       "      <td>0.4439</td>\n",
       "      <td>-1</td>\n",
       "    </tr>\n",
       "    <tr>\n",
       "      <th>1</th>\n",
       "      <td>0.3680</td>\n",
       "      <td>0.3686</td>\n",
       "      <td>0.3694</td>\n",
       "      <td>0.3702</td>\n",
       "      <td>0.3712</td>\n",
       "      <td>0.3723</td>\n",
       "      <td>0.3734</td>\n",
       "      <td>0.3747</td>\n",
       "      <td>0.3760</td>\n",
       "      <td>0.3774</td>\n",
       "      <td>...</td>\n",
       "      <td>0.4373</td>\n",
       "      <td>0.4376</td>\n",
       "      <td>0.4376</td>\n",
       "      <td>0.4374</td>\n",
       "      <td>0.4369</td>\n",
       "      <td>0.4362</td>\n",
       "      <td>0.4353</td>\n",
       "      <td>0.4341</td>\n",
       "      <td>0.4327</td>\n",
       "      <td>-1</td>\n",
       "    </tr>\n",
       "    <tr>\n",
       "      <th>2</th>\n",
       "      <td>0.4835</td>\n",
       "      <td>0.4833</td>\n",
       "      <td>0.4834</td>\n",
       "      <td>0.4836</td>\n",
       "      <td>0.4838</td>\n",
       "      <td>0.4842</td>\n",
       "      <td>0.4847</td>\n",
       "      <td>0.4852</td>\n",
       "      <td>0.4859</td>\n",
       "      <td>0.4868</td>\n",
       "      <td>...</td>\n",
       "      <td>0.5516</td>\n",
       "      <td>0.5514</td>\n",
       "      <td>0.5513</td>\n",
       "      <td>0.5511</td>\n",
       "      <td>0.5508</td>\n",
       "      <td>0.5505</td>\n",
       "      <td>0.5503</td>\n",
       "      <td>0.5497</td>\n",
       "      <td>0.5491</td>\n",
       "      <td>-1</td>\n",
       "    </tr>\n",
       "    <tr>\n",
       "      <th>3</th>\n",
       "      <td>0.5086</td>\n",
       "      <td>0.5085</td>\n",
       "      <td>0.5086</td>\n",
       "      <td>0.5088</td>\n",
       "      <td>0.5091</td>\n",
       "      <td>0.5096</td>\n",
       "      <td>0.5102</td>\n",
       "      <td>0.5112</td>\n",
       "      <td>0.5122</td>\n",
       "      <td>0.5135</td>\n",
       "      <td>...</td>\n",
       "      <td>0.5582</td>\n",
       "      <td>0.5577</td>\n",
       "      <td>0.5572</td>\n",
       "      <td>0.5567</td>\n",
       "      <td>0.5565</td>\n",
       "      <td>0.5561</td>\n",
       "      <td>0.5559</td>\n",
       "      <td>0.5558</td>\n",
       "      <td>0.5558</td>\n",
       "      <td>-1</td>\n",
       "    </tr>\n",
       "    <tr>\n",
       "      <th>4</th>\n",
       "      <td>0.5151</td>\n",
       "      <td>0.5151</td>\n",
       "      <td>0.5151</td>\n",
       "      <td>0.5154</td>\n",
       "      <td>0.5157</td>\n",
       "      <td>0.5163</td>\n",
       "      <td>0.5169</td>\n",
       "      <td>0.5178</td>\n",
       "      <td>0.5188</td>\n",
       "      <td>0.5200</td>\n",
       "      <td>...</td>\n",
       "      <td>0.5404</td>\n",
       "      <td>0.5400</td>\n",
       "      <td>0.5396</td>\n",
       "      <td>0.5392</td>\n",
       "      <td>0.5389</td>\n",
       "      <td>0.5386</td>\n",
       "      <td>0.5383</td>\n",
       "      <td>0.5382</td>\n",
       "      <td>0.5382</td>\n",
       "      <td>-1</td>\n",
       "    </tr>\n",
       "  </tbody>\n",
       "</table>\n",
       "<p>5 rows × 202 columns</p>\n",
       "</div>"
      ],
      "text/plain": [
       "   feature_0  feature_1  feature_2  feature_3  feature_4  feature_5  \\\n",
       "0     0.4123     0.4122     0.4122     0.4125     0.4127     0.4132   \n",
       "1     0.3680     0.3686     0.3694     0.3702     0.3712     0.3723   \n",
       "2     0.4835     0.4833     0.4834     0.4836     0.4838     0.4842   \n",
       "3     0.5086     0.5085     0.5086     0.5088     0.5091     0.5096   \n",
       "4     0.5151     0.5151     0.5151     0.5154     0.5157     0.5163   \n",
       "\n",
       "   feature_6  feature_7  feature_8  feature_9  ...  feature_192  feature_193  \\\n",
       "0     0.4137     0.4144     0.4153     0.4164  ...       0.4475       0.4470   \n",
       "1     0.3734     0.3747     0.3760     0.3774  ...       0.4373       0.4376   \n",
       "2     0.4847     0.4852     0.4859     0.4868  ...       0.5516       0.5514   \n",
       "3     0.5102     0.5112     0.5122     0.5135  ...       0.5582       0.5577   \n",
       "4     0.5169     0.5178     0.5188     0.5200  ...       0.5404       0.5400   \n",
       "\n",
       "   feature_194  feature_195  feature_196  feature_197  feature_198  \\\n",
       "0       0.4466       0.4460       0.4455       0.4452       0.4446   \n",
       "1       0.4376       0.4374       0.4369       0.4362       0.4353   \n",
       "2       0.5513       0.5511       0.5508       0.5505       0.5503   \n",
       "3       0.5572       0.5567       0.5565       0.5561       0.5559   \n",
       "4       0.5396       0.5392       0.5389       0.5386       0.5383   \n",
       "\n",
       "   feature_199  feature_200  label  \n",
       "0       0.4443       0.4439     -1  \n",
       "1       0.4341       0.4327     -1  \n",
       "2       0.5497       0.5491     -1  \n",
       "3       0.5558       0.5558     -1  \n",
       "4       0.5382       0.5382     -1  \n",
       "\n",
       "[5 rows x 202 columns]"
      ]
     },
     "execution_count": 11,
     "metadata": {},
     "output_type": "execute_result"
    }
   ],
   "source": [
    "df.head()"
   ]
  },
  {
   "cell_type": "markdown",
   "metadata": {},
   "source": [
    "### Checking Data distribution"
   ]
  },
  {
   "cell_type": "markdown",
   "metadata": {},
   "source": [
    "As we have 200 features in dataset, we are not able to one by one check visually distribution of each features. So we should at least be able to answer two main questions:\n",
    "\n",
    "* Is there any outliers in our features? \n",
    "* Can we drop some features in our dataset to make simpler our machine learning model?\n",
    "\n"
   ]
  },
  {
   "cell_type": "markdown",
   "metadata": {},
   "source": [
    "### checking outliers"
   ]
  },
  {
   "cell_type": "markdown",
   "metadata": {},
   "source": [
    "At first lets to check if there are any missing values in our dataset\n"
   ]
  },
  {
   "cell_type": "code",
   "execution_count": 12,
   "metadata": {},
   "outputs": [
    {
     "data": {
      "text/html": [
       "<div>\n",
       "<style scoped>\n",
       "    .dataframe tbody tr th:only-of-type {\n",
       "        vertical-align: middle;\n",
       "    }\n",
       "\n",
       "    .dataframe tbody tr th {\n",
       "        vertical-align: top;\n",
       "    }\n",
       "\n",
       "    .dataframe thead th {\n",
       "        text-align: right;\n",
       "    }\n",
       "</style>\n",
       "<table border=\"1\" class=\"dataframe\">\n",
       "  <thead>\n",
       "    <tr style=\"text-align: right;\">\n",
       "      <th></th>\n",
       "      <th>feature_0</th>\n",
       "      <th>feature_1</th>\n",
       "      <th>feature_2</th>\n",
       "      <th>feature_3</th>\n",
       "      <th>feature_4</th>\n",
       "      <th>feature_5</th>\n",
       "      <th>feature_6</th>\n",
       "      <th>feature_7</th>\n",
       "      <th>feature_8</th>\n",
       "      <th>feature_9</th>\n",
       "      <th>...</th>\n",
       "      <th>feature_192</th>\n",
       "      <th>feature_193</th>\n",
       "      <th>feature_194</th>\n",
       "      <th>feature_195</th>\n",
       "      <th>feature_196</th>\n",
       "      <th>feature_197</th>\n",
       "      <th>feature_198</th>\n",
       "      <th>feature_199</th>\n",
       "      <th>feature_200</th>\n",
       "      <th>label</th>\n",
       "    </tr>\n",
       "  </thead>\n",
       "  <tbody>\n",
       "    <tr>\n",
       "      <th>column Type</th>\n",
       "      <td>float64</td>\n",
       "      <td>float64</td>\n",
       "      <td>float64</td>\n",
       "      <td>float64</td>\n",
       "      <td>float64</td>\n",
       "      <td>float64</td>\n",
       "      <td>float64</td>\n",
       "      <td>float64</td>\n",
       "      <td>float64</td>\n",
       "      <td>float64</td>\n",
       "      <td>...</td>\n",
       "      <td>float64</td>\n",
       "      <td>float64</td>\n",
       "      <td>float64</td>\n",
       "      <td>float64</td>\n",
       "      <td>float64</td>\n",
       "      <td>float64</td>\n",
       "      <td>float64</td>\n",
       "      <td>float64</td>\n",
       "      <td>float64</td>\n",
       "      <td>int64</td>\n",
       "    </tr>\n",
       "    <tr>\n",
       "      <th>null values (nb)</th>\n",
       "      <td>0</td>\n",
       "      <td>0</td>\n",
       "      <td>0</td>\n",
       "      <td>0</td>\n",
       "      <td>0</td>\n",
       "      <td>0</td>\n",
       "      <td>0</td>\n",
       "      <td>0</td>\n",
       "      <td>0</td>\n",
       "      <td>0</td>\n",
       "      <td>...</td>\n",
       "      <td>0</td>\n",
       "      <td>0</td>\n",
       "      <td>0</td>\n",
       "      <td>0</td>\n",
       "      <td>0</td>\n",
       "      <td>0</td>\n",
       "      <td>0</td>\n",
       "      <td>0</td>\n",
       "      <td>0</td>\n",
       "      <td>0</td>\n",
       "    </tr>\n",
       "    <tr>\n",
       "      <th>null values (%)</th>\n",
       "      <td>0</td>\n",
       "      <td>0</td>\n",
       "      <td>0</td>\n",
       "      <td>0</td>\n",
       "      <td>0</td>\n",
       "      <td>0</td>\n",
       "      <td>0</td>\n",
       "      <td>0</td>\n",
       "      <td>0</td>\n",
       "      <td>0</td>\n",
       "      <td>...</td>\n",
       "      <td>0</td>\n",
       "      <td>0</td>\n",
       "      <td>0</td>\n",
       "      <td>0</td>\n",
       "      <td>0</td>\n",
       "      <td>0</td>\n",
       "      <td>0</td>\n",
       "      <td>0</td>\n",
       "      <td>0</td>\n",
       "      <td>0</td>\n",
       "    </tr>\n",
       "  </tbody>\n",
       "</table>\n",
       "<p>3 rows × 202 columns</p>\n",
       "</div>"
      ],
      "text/plain": [
       "                 feature_0 feature_1 feature_2 feature_3 feature_4 feature_5  \\\n",
       "column Type        float64   float64   float64   float64   float64   float64   \n",
       "null values (nb)         0         0         0         0         0         0   \n",
       "null values (%)          0         0         0         0         0         0   \n",
       "\n",
       "                 feature_6 feature_7 feature_8 feature_9  ... feature_192  \\\n",
       "column Type        float64   float64   float64   float64  ...     float64   \n",
       "null values (nb)         0         0         0         0  ...           0   \n",
       "null values (%)          0         0         0         0  ...           0   \n",
       "\n",
       "                 feature_193 feature_194 feature_195 feature_196 feature_197  \\\n",
       "column Type          float64     float64     float64     float64     float64   \n",
       "null values (nb)           0           0           0           0           0   \n",
       "null values (%)            0           0           0           0           0   \n",
       "\n",
       "                 feature_198 feature_199 feature_200  label  \n",
       "column Type          float64     float64     float64  int64  \n",
       "null values (nb)           0           0           0      0  \n",
       "null values (%)            0           0           0      0  \n",
       "\n",
       "[3 rows x 202 columns]"
      ]
     },
     "execution_count": 12,
     "metadata": {},
     "output_type": "execute_result"
    }
   ],
   "source": [
    "# Check where we find NaN values\n",
    "\n",
    "tab_info = pd.DataFrame(df.dtypes).T.rename(index={0:'column Type'}) \n",
    "tab_info = tab_info.append(pd.DataFrame(df.isnull().sum()).T.rename(index={0:'null values (nb)'}))\n",
    "tab_info = tab_info.append(pd.DataFrame(df.isnull().sum()/df.shape[0]*100).T.\n",
    "                                       rename(index={0: 'null values (%)'}))\n",
    "tab_info"
   ]
  },
  {
   "cell_type": "code",
   "execution_count": 13,
   "metadata": {
    "scrolled": true
   },
   "outputs": [
    {
     "data": {
      "text/plain": [
       "feature_0      0\n",
       "feature_1      0\n",
       "feature_2      0\n",
       "feature_3      0\n",
       "feature_4      0\n",
       "              ..\n",
       "feature_197    0\n",
       "feature_198    0\n",
       "feature_199    0\n",
       "feature_200    0\n",
       "label          0\n",
       "Length: 202, dtype: int64"
      ]
     },
     "execution_count": 13,
     "metadata": {},
     "output_type": "execute_result"
    }
   ],
   "source": [
    "df.isnull().sum()"
   ]
  },
  {
   "cell_type": "code",
   "execution_count": 14,
   "metadata": {},
   "outputs": [
    {
     "data": {
      "image/png": "[encoded data removed]",
      "text/plain": [
       "<Figure size 720x576 with 1 Axes>"
      ]
     },
     "metadata": {
      "needs_background": "light"
     },
     "output_type": "display_data"
    }
   ],
   "source": [
    "df.isna().sum().plot(kind=\"bar\",figsize=(10, 8))\n",
    "plt.title(\"no of null values in train data\")\n",
    "plt.show()\n",
    "\n"
   ]
  },
  {
   "cell_type": "markdown",
   "metadata": {},
   "source": [
    "No missing values, that's great. Next we can look at outliers in the features and remove them from dataset as it can influence on the accuracy of the machine learning model."
   ]
  },
  {
   "cell_type": "code",
   "execution_count": 15,
   "metadata": {},
   "outputs": [
    {
     "data": {
      "text/plain": [
       "(162, 202)"
      ]
     },
     "execution_count": 15,
     "metadata": {},
     "output_type": "execute_result"
    }
   ],
   "source": [
    "df.shape"
   ]
  },
  {
   "cell_type": "code",
   "execution_count": 16,
   "metadata": {},
   "outputs": [],
   "source": [
    "from scipy import stats\n",
    "\n",
    "def drop_outliers(df, z_thresh=3):\n",
    "    # Constrains will contain `True` or `False` depending on if it is a value below the threshold.\n",
    "    constrains = df.select_dtypes(include=[np.number]).apply(lambda x: np.abs(stats.zscore(x)) < z_thresh).all(axis=1)\n",
    "   # Drop (inplace) values set to be rejected\n",
    "    df.drop(df.index[~constrains], inplace=True)\n",
    "drop_outliers(df)"
   ]
  },
  {
   "cell_type": "code",
   "execution_count": 17,
   "metadata": {},
   "outputs": [
    {
     "data": {
      "text/plain": [
       "(156, 202)"
      ]
     },
     "execution_count": 17,
     "metadata": {},
     "output_type": "execute_result"
    }
   ],
   "source": [
    "df.shape"
   ]
  },
  {
   "cell_type": "markdown",
   "metadata": {},
   "source": [
    "### DImentinality reduction"
   ]
  },
  {
   "cell_type": "markdown",
   "metadata": {},
   "source": [
    "One way to simplify our model is remove the features from dataset that do not have an important influence on the target feature. One way to understand the influence of each feature on target feature is calculating correlation heatmap. And if a feature has a low correlation to target feature, we can remove it from the dataset.  \n"
   ]
  },
  {
   "cell_type": "code",
   "execution_count": 18,
   "metadata": {},
   "outputs": [
    {
     "data": {
      "text/html": [
       "<div>\n",
       "<style scoped>\n",
       "    .dataframe tbody tr th:only-of-type {\n",
       "        vertical-align: middle;\n",
       "    }\n",
       "\n",
       "    .dataframe tbody tr th {\n",
       "        vertical-align: top;\n",
       "    }\n",
       "\n",
       "    .dataframe thead th {\n",
       "        text-align: right;\n",
       "    }\n",
       "</style>\n",
       "<table border=\"1\" class=\"dataframe\">\n",
       "  <thead>\n",
       "    <tr style=\"text-align: right;\">\n",
       "      <th></th>\n",
       "      <th>feature_0</th>\n",
       "      <th>feature_1</th>\n",
       "      <th>feature_2</th>\n",
       "      <th>feature_3</th>\n",
       "      <th>feature_4</th>\n",
       "      <th>feature_5</th>\n",
       "      <th>feature_6</th>\n",
       "      <th>feature_7</th>\n",
       "      <th>feature_8</th>\n",
       "      <th>feature_9</th>\n",
       "      <th>...</th>\n",
       "      <th>feature_192</th>\n",
       "      <th>feature_193</th>\n",
       "      <th>feature_194</th>\n",
       "      <th>feature_195</th>\n",
       "      <th>feature_196</th>\n",
       "      <th>feature_197</th>\n",
       "      <th>feature_198</th>\n",
       "      <th>feature_199</th>\n",
       "      <th>feature_200</th>\n",
       "      <th>label</th>\n",
       "    </tr>\n",
       "  </thead>\n",
       "  <tbody>\n",
       "    <tr>\n",
       "      <th>feature_0</th>\n",
       "      <td>1.000000</td>\n",
       "      <td>0.999998</td>\n",
       "      <td>0.999993</td>\n",
       "      <td>0.999985</td>\n",
       "      <td>0.999974</td>\n",
       "      <td>0.999962</td>\n",
       "      <td>0.999947</td>\n",
       "      <td>0.999926</td>\n",
       "      <td>0.999890</td>\n",
       "      <td>0.999833</td>\n",
       "      <td>...</td>\n",
       "      <td>0.980125</td>\n",
       "      <td>0.979877</td>\n",
       "      <td>0.979667</td>\n",
       "      <td>0.979496</td>\n",
       "      <td>0.979388</td>\n",
       "      <td>0.979342</td>\n",
       "      <td>0.979364</td>\n",
       "      <td>0.979415</td>\n",
       "      <td>0.979571</td>\n",
       "      <td>0.085298</td>\n",
       "    </tr>\n",
       "    <tr>\n",
       "      <th>feature_1</th>\n",
       "      <td>0.999998</td>\n",
       "      <td>1.000000</td>\n",
       "      <td>0.999998</td>\n",
       "      <td>0.999993</td>\n",
       "      <td>0.999985</td>\n",
       "      <td>0.999975</td>\n",
       "      <td>0.999961</td>\n",
       "      <td>0.999940</td>\n",
       "      <td>0.999905</td>\n",
       "      <td>0.999845</td>\n",
       "      <td>...</td>\n",
       "      <td>0.980296</td>\n",
       "      <td>0.980050</td>\n",
       "      <td>0.979842</td>\n",
       "      <td>0.979673</td>\n",
       "      <td>0.979565</td>\n",
       "      <td>0.979520</td>\n",
       "      <td>0.979542</td>\n",
       "      <td>0.979591</td>\n",
       "      <td>0.979746</td>\n",
       "      <td>0.084929</td>\n",
       "    </tr>\n",
       "    <tr>\n",
       "      <th>feature_2</th>\n",
       "      <td>0.999993</td>\n",
       "      <td>0.999998</td>\n",
       "      <td>1.000000</td>\n",
       "      <td>0.999998</td>\n",
       "      <td>0.999993</td>\n",
       "      <td>0.999985</td>\n",
       "      <td>0.999973</td>\n",
       "      <td>0.999953</td>\n",
       "      <td>0.999917</td>\n",
       "      <td>0.999857</td>\n",
       "      <td>...</td>\n",
       "      <td>0.980485</td>\n",
       "      <td>0.980242</td>\n",
       "      <td>0.980036</td>\n",
       "      <td>0.979867</td>\n",
       "      <td>0.979761</td>\n",
       "      <td>0.979715</td>\n",
       "      <td>0.979737</td>\n",
       "      <td>0.979785</td>\n",
       "      <td>0.979939</td>\n",
       "      <td>0.084549</td>\n",
       "    </tr>\n",
       "    <tr>\n",
       "      <th>feature_3</th>\n",
       "      <td>0.999985</td>\n",
       "      <td>0.999993</td>\n",
       "      <td>0.999998</td>\n",
       "      <td>1.000000</td>\n",
       "      <td>0.999998</td>\n",
       "      <td>0.999993</td>\n",
       "      <td>0.999983</td>\n",
       "      <td>0.999965</td>\n",
       "      <td>0.999930</td>\n",
       "      <td>0.999869</td>\n",
       "      <td>...</td>\n",
       "      <td>0.980735</td>\n",
       "      <td>0.980494</td>\n",
       "      <td>0.980290</td>\n",
       "      <td>0.980123</td>\n",
       "      <td>0.980017</td>\n",
       "      <td>0.979971</td>\n",
       "      <td>0.979991</td>\n",
       "      <td>0.980038</td>\n",
       "      <td>0.980190</td>\n",
       "      <td>0.084093</td>\n",
       "    </tr>\n",
       "    <tr>\n",
       "      <th>feature_4</th>\n",
       "      <td>0.999974</td>\n",
       "      <td>0.999985</td>\n",
       "      <td>0.999993</td>\n",
       "      <td>0.999998</td>\n",
       "      <td>1.000000</td>\n",
       "      <td>0.999998</td>\n",
       "      <td>0.999991</td>\n",
       "      <td>0.999976</td>\n",
       "      <td>0.999944</td>\n",
       "      <td>0.999887</td>\n",
       "      <td>...</td>\n",
       "      <td>0.980917</td>\n",
       "      <td>0.980676</td>\n",
       "      <td>0.980471</td>\n",
       "      <td>0.980304</td>\n",
       "      <td>0.980197</td>\n",
       "      <td>0.980150</td>\n",
       "      <td>0.980169</td>\n",
       "      <td>0.980214</td>\n",
       "      <td>0.980363</td>\n",
       "      <td>0.084157</td>\n",
       "    </tr>\n",
       "    <tr>\n",
       "      <th>...</th>\n",
       "      <td>...</td>\n",
       "      <td>...</td>\n",
       "      <td>...</td>\n",
       "      <td>...</td>\n",
       "      <td>...</td>\n",
       "      <td>...</td>\n",
       "      <td>...</td>\n",
       "      <td>...</td>\n",
       "      <td>...</td>\n",
       "      <td>...</td>\n",
       "      <td>...</td>\n",
       "      <td>...</td>\n",
       "      <td>...</td>\n",
       "      <td>...</td>\n",
       "      <td>...</td>\n",
       "      <td>...</td>\n",
       "      <td>...</td>\n",
       "      <td>...</td>\n",
       "      <td>...</td>\n",
       "      <td>...</td>\n",
       "      <td>...</td>\n",
       "    </tr>\n",
       "    <tr>\n",
       "      <th>feature_197</th>\n",
       "      <td>0.979342</td>\n",
       "      <td>0.979520</td>\n",
       "      <td>0.979715</td>\n",
       "      <td>0.979971</td>\n",
       "      <td>0.980150</td>\n",
       "      <td>0.980319</td>\n",
       "      <td>0.980398</td>\n",
       "      <td>0.980391</td>\n",
       "      <td>0.980317</td>\n",
       "      <td>0.980122</td>\n",
       "      <td>...</td>\n",
       "      <td>0.999930</td>\n",
       "      <td>0.999956</td>\n",
       "      <td>0.999975</td>\n",
       "      <td>0.999989</td>\n",
       "      <td>0.999997</td>\n",
       "      <td>1.000000</td>\n",
       "      <td>0.999996</td>\n",
       "      <td>0.999983</td>\n",
       "      <td>0.999956</td>\n",
       "      <td>-0.010687</td>\n",
       "    </tr>\n",
       "    <tr>\n",
       "      <th>feature_198</th>\n",
       "      <td>0.979364</td>\n",
       "      <td>0.979542</td>\n",
       "      <td>0.979737</td>\n",
       "      <td>0.979991</td>\n",
       "      <td>0.980169</td>\n",
       "      <td>0.980335</td>\n",
       "      <td>0.980412</td>\n",
       "      <td>0.980400</td>\n",
       "      <td>0.980320</td>\n",
       "      <td>0.980119</td>\n",
       "      <td>...</td>\n",
       "      <td>0.999904</td>\n",
       "      <td>0.999933</td>\n",
       "      <td>0.999955</td>\n",
       "      <td>0.999974</td>\n",
       "      <td>0.999987</td>\n",
       "      <td>0.999996</td>\n",
       "      <td>1.000000</td>\n",
       "      <td>0.999995</td>\n",
       "      <td>0.999976</td>\n",
       "      <td>-0.011786</td>\n",
       "    </tr>\n",
       "    <tr>\n",
       "      <th>feature_199</th>\n",
       "      <td>0.979415</td>\n",
       "      <td>0.979591</td>\n",
       "      <td>0.979785</td>\n",
       "      <td>0.980038</td>\n",
       "      <td>0.980214</td>\n",
       "      <td>0.980378</td>\n",
       "      <td>0.980451</td>\n",
       "      <td>0.980435</td>\n",
       "      <td>0.980350</td>\n",
       "      <td>0.980144</td>\n",
       "      <td>...</td>\n",
       "      <td>0.999866</td>\n",
       "      <td>0.999898</td>\n",
       "      <td>0.999924</td>\n",
       "      <td>0.999948</td>\n",
       "      <td>0.999966</td>\n",
       "      <td>0.999983</td>\n",
       "      <td>0.999995</td>\n",
       "      <td>1.000000</td>\n",
       "      <td>0.999993</td>\n",
       "      <td>-0.013005</td>\n",
       "    </tr>\n",
       "    <tr>\n",
       "      <th>feature_200</th>\n",
       "      <td>0.979571</td>\n",
       "      <td>0.979746</td>\n",
       "      <td>0.979939</td>\n",
       "      <td>0.980190</td>\n",
       "      <td>0.980363</td>\n",
       "      <td>0.980525</td>\n",
       "      <td>0.980595</td>\n",
       "      <td>0.980576</td>\n",
       "      <td>0.980488</td>\n",
       "      <td>0.980278</td>\n",
       "      <td>...</td>\n",
       "      <td>0.999820</td>\n",
       "      <td>0.999853</td>\n",
       "      <td>0.999880</td>\n",
       "      <td>0.999909</td>\n",
       "      <td>0.999932</td>\n",
       "      <td>0.999956</td>\n",
       "      <td>0.999976</td>\n",
       "      <td>0.999993</td>\n",
       "      <td>1.000000</td>\n",
       "      <td>-0.013748</td>\n",
       "    </tr>\n",
       "    <tr>\n",
       "      <th>label</th>\n",
       "      <td>0.085298</td>\n",
       "      <td>0.084929</td>\n",
       "      <td>0.084549</td>\n",
       "      <td>0.084093</td>\n",
       "      <td>0.084157</td>\n",
       "      <td>0.084257</td>\n",
       "      <td>0.084963</td>\n",
       "      <td>0.086163</td>\n",
       "      <td>0.087844</td>\n",
       "      <td>0.090015</td>\n",
       "      <td>...</td>\n",
       "      <td>-0.002822</td>\n",
       "      <td>-0.004585</td>\n",
       "      <td>-0.006273</td>\n",
       "      <td>-0.007930</td>\n",
       "      <td>-0.009302</td>\n",
       "      <td>-0.010687</td>\n",
       "      <td>-0.011786</td>\n",
       "      <td>-0.013005</td>\n",
       "      <td>-0.013748</td>\n",
       "      <td>1.000000</td>\n",
       "    </tr>\n",
       "  </tbody>\n",
       "</table>\n",
       "<p>202 rows × 202 columns</p>\n",
       "</div>"
      ],
      "text/plain": [
       "             feature_0  feature_1  feature_2  feature_3  feature_4  feature_5  \\\n",
       "feature_0     1.000000   0.999998   0.999993   0.999985   0.999974   0.999962   \n",
       "feature_1     0.999998   1.000000   0.999998   0.999993   0.999985   0.999975   \n",
       "feature_2     0.999993   0.999998   1.000000   0.999998   0.999993   0.999985   \n",
       "feature_3     0.999985   0.999993   0.999998   1.000000   0.999998   0.999993   \n",
       "feature_4     0.999974   0.999985   0.999993   0.999998   1.000000   0.999998   \n",
       "...                ...        ...        ...        ...        ...        ...   \n",
       "feature_197   0.979342   0.979520   0.979715   0.979971   0.980150   0.980319   \n",
       "feature_198   0.979364   0.979542   0.979737   0.979991   0.980169   0.980335   \n",
       "feature_199   0.979415   0.979591   0.979785   0.980038   0.980214   0.980378   \n",
       "feature_200   0.979571   0.979746   0.979939   0.980190   0.980363   0.980525   \n",
       "label         0.085298   0.084929   0.084549   0.084093   0.084157   0.084257   \n",
       "\n",
       "             feature_6  feature_7  feature_8  feature_9  ...  feature_192  \\\n",
       "feature_0     0.999947   0.999926   0.999890   0.999833  ...     0.980125   \n",
       "feature_1     0.999961   0.999940   0.999905   0.999845  ...     0.980296   \n",
       "feature_2     0.999973   0.999953   0.999917   0.999857  ...     0.980485   \n",
       "feature_3     0.999983   0.999965   0.999930   0.999869  ...     0.980735   \n",
       "feature_4     0.999991   0.999976   0.999944   0.999887  ...     0.980917   \n",
       "...                ...        ...        ...        ...  ...          ...   \n",
       "feature_197   0.980398   0.980391   0.980317   0.980122  ...     0.999930   \n",
       "feature_198   0.980412   0.980400   0.980320   0.980119  ...     0.999904   \n",
       "feature_199   0.980451   0.980435   0.980350   0.980144  ...     0.999866   \n",
       "feature_200   0.980595   0.980576   0.980488   0.980278  ...     0.999820   \n",
       "label         0.084963   0.086163   0.087844   0.090015  ...    -0.002822   \n",
       "\n",
       "             feature_193  feature_194  feature_195  feature_196  feature_197  \\\n",
       "feature_0       0.979877     0.979667     0.979496     0.979388     0.979342   \n",
       "feature_1       0.980050     0.979842     0.979673     0.979565     0.979520   \n",
       "feature_2       0.980242     0.980036     0.979867     0.979761     0.979715   \n",
       "feature_3       0.980494     0.980290     0.980123     0.980017     0.979971   \n",
       "feature_4       0.980676     0.980471     0.980304     0.980197     0.980150   \n",
       "...                  ...          ...          ...          ...          ...   \n",
       "feature_197     0.999956     0.999975     0.999989     0.999997     1.000000   \n",
       "feature_198     0.999933     0.999955     0.999974     0.999987     0.999996   \n",
       "feature_199     0.999898     0.999924     0.999948     0.999966     0.999983   \n",
       "feature_200     0.999853     0.999880     0.999909     0.999932     0.999956   \n",
       "label          -0.004585    -0.006273    -0.007930    -0.009302    -0.010687   \n",
       "\n",
       "             feature_198  feature_199  feature_200     label  \n",
       "feature_0       0.979364     0.979415     0.979571  0.085298  \n",
       "feature_1       0.979542     0.979591     0.979746  0.084929  \n",
       "feature_2       0.979737     0.979785     0.979939  0.084549  \n",
       "feature_3       0.979991     0.980038     0.980190  0.084093  \n",
       "feature_4       0.980169     0.980214     0.980363  0.084157  \n",
       "...                  ...          ...          ...       ...  \n",
       "feature_197     0.999996     0.999983     0.999956 -0.010687  \n",
       "feature_198     1.000000     0.999995     0.999976 -0.011786  \n",
       "feature_199     0.999995     1.000000     0.999993 -0.013005  \n",
       "feature_200     0.999976     0.999993     1.000000 -0.013748  \n",
       "label          -0.011786    -0.013005    -0.013748  1.000000  \n",
       "\n",
       "[202 rows x 202 columns]"
      ]
     },
     "execution_count": 18,
     "metadata": {},
     "output_type": "execute_result"
    }
   ],
   "source": [
    "cor = df.corr()\n",
    "cor"
   ]
  },
  {
   "cell_type": "code",
   "execution_count": 23,
   "metadata": {},
   "outputs": [],
   "source": [
    "# Correlation heatmap\n",
    "cor = df.corr()\n",
    "\n",
    "cor_target = abs(cor[\"label\"])\n",
    "\n",
    "relevant_features = cor_target[cor_target>0.30]\n",
    "correlated_feature_variable_names = relevant_features.index"
   ]
  },
  {
   "cell_type": "code",
   "execution_count": 24,
   "metadata": {},
   "outputs": [
    {
     "data": {
      "text/plain": [
       "Index(['feature_118', 'feature_119', 'feature_120', 'feature_121',\n",
       "       'feature_122', 'feature_123', 'feature_124', 'feature_125',\n",
       "       'feature_126', 'feature_127', 'feature_128', 'feature_129',\n",
       "       'feature_130', 'feature_131', 'feature_132', 'feature_133',\n",
       "       'feature_134', 'feature_135', 'feature_136', 'feature_137',\n",
       "       'feature_138', 'feature_139', 'feature_140', 'feature_141',\n",
       "       'feature_142', 'feature_143', 'feature_144', 'feature_145',\n",
       "       'feature_146', 'feature_147', 'label'],\n",
       "      dtype='object')"
      ]
     },
     "execution_count": 24,
     "metadata": {},
     "output_type": "execute_result"
    }
   ],
   "source": [
    "correlated_feature_variable_names"
   ]
  },
  {
   "cell_type": "code",
   "execution_count": 25,
   "metadata": {},
   "outputs": [
    {
     "data": {
      "text/plain": [
       "(156, 31)"
      ]
     },
     "execution_count": 25,
     "metadata": {},
     "output_type": "execute_result"
    }
   ],
   "source": [
    "df = df[correlated_feature_variable_names]\n",
    "df.shape"
   ]
  },
  {
   "cell_type": "code",
   "execution_count": 26,
   "metadata": {},
   "outputs": [],
   "source": [
    "import sklearn.model_selection as model_selection\n",
    "X = df.drop(['label'], axis=1)\n",
    "y = df['label']\n",
    "x_train, x_test, y_train, y_test = model_selection.train_test_split(X, y, train_size=0.65,test_size=0.35, random_state=101)\n",
    "#train, test, validate = np.split(df.sample(frac=1), [int(.6*len(df)), int(.8*len(df))])\n",
    "\n"
   ]
  },
  {
   "cell_type": "markdown",
   "metadata": {},
   "source": [
    "### Logistic Regression"
   ]
  },
  {
   "cell_type": "code",
   "execution_count": 27,
   "metadata": {},
   "outputs": [],
   "source": [
    "logit_model = LogisticRegression()\n",
    "logit_model = logit_model.fit(x_train, y_train)\n",
    "logit_model.score(x_train, y_train)\n",
    "predicted = pd.DataFrame(logit_model.predict(x_test))\n",
    "probs = pd.DataFrame(logit_model.predict_proba(x_test))\n",
    "\n",
    "\n",
    "# Store metrics\n",
    "logit_accuracy  = metrics.accuracy_score(y_test, predicted)\n",
    "logit_roc_auc = metrics.roc_auc_score(y_test, probs[1])\n",
    "logit_confus_matrix = metrics.confusion_matrix(y_test, predicted)\n",
    "logit_classification_report = metrics.classification_report(y_test, predicted)\n",
    "logit_precision = metrics.precision_score(y_test, predicted, pos_label=1)\n",
    "logit_recall = metrics.recall_score(y_test, predicted, pos_label=1)\n",
    "logit_f1 = metrics.f1_score(y_test, predicted, pos_label=1)\n",
    "\n",
    "# evaluate the model using 10-fold cross-validation\n",
    "logit_cv_scores = cross_val_score(tree.DecisionTreeClassifier(max_depth=3), x_test, y_test, scoring='precision', cv=10)\n",
    "logit_cv_mean = np.mean(logit_cv_scores)"
   ]
  },
  {
   "cell_type": "code",
   "execution_count": 28,
   "metadata": {},
   "outputs": [
    {
     "name": "stdout",
     "output_type": "stream",
     "text": [
      "[[34  7]\n",
      " [14  0]]\n"
     ]
    }
   ],
   "source": [
    "print( metrics.confusion_matrix(y_test, predicted))"
   ]
  },
  {
   "cell_type": "code",
   "execution_count": 30,
   "metadata": {},
   "outputs": [
    {
     "data": {
      "text/plain": [
       "<sklearn.metrics._plot.roc_curve.RocCurveDisplay at 0x1daed3a3640>"
      ]
     },
     "execution_count": 30,
     "metadata": {},
     "output_type": "execute_result"
    },
    {
     "data": {
      "image/png": "[encoded data removed]",
      "text/plain": [
       "<Figure size 432x288 with 1 Axes>"
      ]
     },
     "metadata": {
      "needs_background": "light"
     },
     "output_type": "display_data"
    }
   ],
   "source": [
    "metrics.plot_roc_curve(logit_model, x_test, y_test)  \n"
   ]
  },
  {
   "cell_type": "markdown",
   "metadata": {},
   "source": [
    "### Decision Tree"
   ]
  },
  {
   "cell_type": "code",
   "execution_count": 31,
   "metadata": {},
   "outputs": [],
   "source": [
    "\n",
    "tree_model = tree.DecisionTreeClassifier(max_depth=3)\n",
    "tree_model = tree_model.fit(x_train, y_train)\n",
    "tree_model.score(x_train, y_train)\n",
    "\n",
    "\n",
    "predicted = pd.DataFrame(tree_model.predict(x_test))\n",
    "probs = pd.DataFrame(tree_model.predict_proba(x_test))\n",
    "\n",
    "# Store metrics\n",
    "tree_accuracy = metrics.accuracy_score(y_test, predicted)\n",
    "tree_roc_auc = metrics.roc_auc_score(y_test, probs[1])\n",
    "tree_confus_matrix = metrics.confusion_matrix(y_test, predicted)\n",
    "tree_classification_report = metrics.classification_report(y_test, predicted)\n",
    "tree_precision = metrics.precision_score(y_test, predicted, pos_label=1)\n",
    "tree_recall = metrics.recall_score(y_test, predicted, pos_label=1)\n",
    "tree_f1 = metrics.f1_score(y_test, predicted, pos_label=1)\n",
    "\n",
    "# evaluate the model using 10-fold cross-validation\n",
    "tree_cv_scores = cross_val_score(tree.DecisionTreeClassifier(max_depth=3), x_test, y_test, scoring='precision', cv=10)\n",
    "tree_cv_mean = np.mean(tree_cv_scores)"
   ]
  },
  {
   "cell_type": "code",
   "execution_count": 32,
   "metadata": {},
   "outputs": [
    {
     "name": "stdout",
     "output_type": "stream",
     "text": [
      "[[35  6]\n",
      " [ 0 14]]\n"
     ]
    }
   ],
   "source": [
    "print( metrics.confusion_matrix(y_test, predicted))"
   ]
  },
  {
   "cell_type": "code",
   "execution_count": 33,
   "metadata": {},
   "outputs": [
    {
     "data": {
      "text/plain": [
       "<sklearn.metrics._plot.roc_curve.RocCurveDisplay at 0x1daed3e74f0>"
      ]
     },
     "execution_count": 33,
     "metadata": {},
     "output_type": "execute_result"
    },
    {
     "data": {
      "image/png": "[encoded data removed]",
      "text/plain": [
       "<Figure size 432x288 with 1 Axes>"
      ]
     },
     "metadata": {
      "needs_background": "light"
     },
     "output_type": "display_data"
    }
   ],
   "source": [
    "metrics.plot_roc_curve(tree_model, x_test, y_test)"
   ]
  },
  {
   "cell_type": "markdown",
   "metadata": {},
   "source": [
    "### Random Forest"
   ]
  },
  {
   "cell_type": "code",
   "execution_count": 34,
   "metadata": {},
   "outputs": [],
   "source": [
    "rf = RandomForestClassifier()    \n",
    "rf_model = rf.fit(x_train, y_train)\n",
    "rf_model.score(x_train, y_train)\n",
    "\n",
    "# Predictions/probs on the test dataset\n",
    "predicted = pd.DataFrame(rf_model.predict(x_test))\n",
    "probs = pd.DataFrame(rf_model.predict_proba(x_test))\n",
    "\n",
    "# Store metrics\n",
    "rf_accuracy = metrics.accuracy_score(y_test, predicted)\n",
    "rf_roc_auc = metrics.roc_auc_score(y_test, probs[1])\n",
    "rf_confus_matrix = metrics.confusion_matrix(y_test, predicted)\n",
    "rf_classification_report = metrics.classification_report(y_test, predicted)\n",
    "rf_precision = metrics.precision_score(y_test, predicted, pos_label=1)\n",
    "rf_recall = metrics.recall_score(y_test, predicted, pos_label=1)\n",
    "rf_f1 = metrics.f1_score(y_test, predicted, pos_label=1)\n",
    "\n",
    "# Evaluate the model using 10-fold cross-validation\n",
    "rf_cv_scores = cross_val_score(RandomForestClassifier(), x_test, y_test, scoring='precision', cv=10)\n",
    "rf_cv_mean = np.mean(rf_cv_scores)"
   ]
  },
  {
   "cell_type": "code",
   "execution_count": 35,
   "metadata": {},
   "outputs": [
    {
     "name": "stdout",
     "output_type": "stream",
     "text": [
      "[[36  5]\n",
      " [ 0 14]]\n"
     ]
    }
   ],
   "source": [
    "print( metrics.confusion_matrix(y_test, predicted))"
   ]
  },
  {
   "cell_type": "code",
   "execution_count": 36,
   "metadata": {},
   "outputs": [
    {
     "data": {
      "text/plain": [
       "<sklearn.metrics._plot.roc_curve.RocCurveDisplay at 0x1daed628a60>"
      ]
     },
     "execution_count": 36,
     "metadata": {},
     "output_type": "execute_result"
    },
    {
     "data": {
      "image/png": "[encoded data removed]",
      "text/plain": [
       "<Figure size 432x288 with 1 Axes>"
      ]
     },
     "metadata": {
      "needs_background": "light"
     },
     "output_type": "display_data"
    }
   ],
   "source": [
    "metrics.plot_roc_curve(rf_model, x_test, y_test)"
   ]
  },
  {
   "cell_type": "markdown",
   "metadata": {},
   "source": [
    "### SUPPORT VECTOR MACHINE"
   ]
  },
  {
   "cell_type": "code",
   "execution_count": 37,
   "metadata": {},
   "outputs": [],
   "source": [
    "svm_model = SVC(probability=True)\n",
    "svm_model = svm_model.fit(x_train, y_train)\n",
    "svm_model.score(x_train, y_train)\n",
    "\n",
    "# Predictions/probs on the test dataset\n",
    "predicted = pd.DataFrame(svm_model.predict(x_test))\n",
    "probs = pd.DataFrame(svm_model.predict_proba(x_test))\n",
    "\n",
    "# Store metrics\n",
    "svm_accuracy = metrics.accuracy_score(y_test, predicted)\n",
    "svm_roc_auc = metrics.roc_auc_score(y_test, probs[1])\n",
    "svm_confus_matrix = metrics.confusion_matrix(y_test, predicted)\n",
    "svm_classification_report = metrics.classification_report(y_test, predicted)\n",
    "svm_precision = metrics.precision_score(y_test, predicted, pos_label=1)\n",
    "svm_recall = metrics.recall_score(y_test, predicted, pos_label=1)\n",
    "svm_f1 = metrics.f1_score(y_test, predicted, pos_label=1)\n",
    "\n",
    "# Evaluate the model using 10-fold cross-validation\n",
    "svm_cv_scores = cross_val_score(SVC(probability=True), x_test, y_test, scoring='precision', cv=10)\n",
    "svm_cv_mean = np.mean(svm_cv_scores)"
   ]
  },
  {
   "cell_type": "code",
   "execution_count": 38,
   "metadata": {},
   "outputs": [
    {
     "name": "stdout",
     "output_type": "stream",
     "text": [
      "[[28 13]\n",
      " [ 0 14]]\n"
     ]
    }
   ],
   "source": [
    "print( metrics.confusion_matrix(y_test, predicted))"
   ]
  },
  {
   "cell_type": "code",
   "execution_count": 39,
   "metadata": {},
   "outputs": [
    {
     "data": {
      "text/plain": [
       "<sklearn.metrics._plot.roc_curve.RocCurveDisplay at 0x1daeca2c5b0>"
      ]
     },
     "execution_count": 39,
     "metadata": {},
     "output_type": "execute_result"
    },
    {
     "data": {
      "image/png": "[encoded data removed]",
      "text/plain": [
       "<Figure size 432x288 with 1 Axes>"
      ]
     },
     "metadata": {
      "needs_background": "light"
     },
     "output_type": "display_data"
    }
   ],
   "source": [
    "metrics.plot_roc_curve(svm_model, x_test, y_test)"
   ]
  },
  {
   "cell_type": "markdown",
   "metadata": {},
   "source": [
    "### KNN"
   ]
  },
  {
   "cell_type": "code",
   "execution_count": 40,
   "metadata": {},
   "outputs": [],
   "source": [
    "# instantiate learning model (k = 3)\n",
    "knn_model = KNeighborsClassifier(n_neighbors=3)\n",
    "# fit the model\n",
    "knn_model.fit(x_train, y_train)\n",
    "# Accuracy\n",
    "knn_model.score(x_train, y_train)\n",
    "\n",
    "# Predictions/probs on the test dataset\n",
    "predicted = pd.DataFrame(knn_model.predict(x_test))\n",
    "probs = pd.DataFrame(knn_model.predict_proba(x_test))\n",
    "\n",
    "# Store metrics\n",
    "knn_accuracy = metrics.accuracy_score(y_test, predicted)\n",
    "knn_roc_auc = metrics.roc_auc_score(y_test, probs[1])\n",
    "knn_confus_matrix = metrics.confusion_matrix(y_test, predicted)\n",
    "knn_classification_report = metrics.classification_report(y_test, predicted)\n",
    "knn_precision = metrics.precision_score(y_test, predicted, pos_label=1)\n",
    "knn_recall = metrics.recall_score(y_test, predicted, pos_label=1)\n",
    "knn_f1 = metrics.f1_score(y_test, predicted, pos_label=1)\n",
    "\n",
    "# Evaluate the model using 10-fold cross-validation\n",
    "knn_cv_scores = cross_val_score(KNeighborsClassifier(n_neighbors=3), x_test, y_test, scoring='precision', cv=10)\n",
    "knn_cv_mean = np.mean(knn_cv_scores)"
   ]
  },
  {
   "cell_type": "code",
   "execution_count": 41,
   "metadata": {},
   "outputs": [
    {
     "name": "stdout",
     "output_type": "stream",
     "text": [
      "[[36  5]\n",
      " [ 3 11]]\n"
     ]
    }
   ],
   "source": [
    "print( metrics.confusion_matrix(y_test, predicted))"
   ]
  },
  {
   "cell_type": "code",
   "execution_count": 42,
   "metadata": {},
   "outputs": [
    {
     "data": {
      "text/plain": [
       "<sklearn.metrics._plot.roc_curve.RocCurveDisplay at 0x1daed4490a0>"
      ]
     },
     "execution_count": 42,
     "metadata": {},
     "output_type": "execute_result"
    },
    {
     "data": {
      "image/png": "[encoded data removed]",
      "text/plain": [
       "<Figure size 432x288 with 1 Axes>"
      ]
     },
     "metadata": {
      "needs_background": "light"
     },
     "output_type": "display_data"
    }
   ],
   "source": [
    "metrics.plot_roc_curve(knn_model, x_test, y_test)"
   ]
  },
  {
   "cell_type": "markdown",
   "metadata": {},
   "source": [
    "### Results"
   ]
  },
  {
   "cell_type": "code",
   "execution_count": 39,
   "metadata": {},
   "outputs": [
    {
     "data": {
      "text/html": [
       "<div>\n",
       "<style scoped>\n",
       "    .dataframe tbody tr th:only-of-type {\n",
       "        vertical-align: middle;\n",
       "    }\n",
       "\n",
       "    .dataframe tbody tr th {\n",
       "        vertical-align: top;\n",
       "    }\n",
       "\n",
       "    .dataframe thead th {\n",
       "        text-align: right;\n",
       "    }\n",
       "</style>\n",
       "<table border=\"1\" class=\"dataframe\">\n",
       "  <thead>\n",
       "    <tr style=\"text-align: right;\">\n",
       "      <th></th>\n",
       "      <th>Model</th>\n",
       "      <th>Accuracy</th>\n",
       "      <th>Precision</th>\n",
       "      <th>recall</th>\n",
       "      <th>F1</th>\n",
       "      <th>cv_precision</th>\n",
       "    </tr>\n",
       "  </thead>\n",
       "  <tbody>\n",
       "    <tr>\n",
       "      <th>2</th>\n",
       "      <td>Random.Forest.</td>\n",
       "      <td>0.927273</td>\n",
       "      <td>0.789474</td>\n",
       "      <td>1.000000</td>\n",
       "      <td>0.882353</td>\n",
       "      <td>0.650000</td>\n",
       "    </tr>\n",
       "    <tr>\n",
       "      <th>1</th>\n",
       "      <td>Decision Tree</td>\n",
       "      <td>0.909091</td>\n",
       "      <td>0.777778</td>\n",
       "      <td>0.933333</td>\n",
       "      <td>0.848485</td>\n",
       "      <td>0.516667</td>\n",
       "    </tr>\n",
       "    <tr>\n",
       "      <th>4</th>\n",
       "      <td>kNN</td>\n",
       "      <td>0.854545</td>\n",
       "      <td>0.652174</td>\n",
       "      <td>1.000000</td>\n",
       "      <td>0.789474</td>\n",
       "      <td>0.516667</td>\n",
       "    </tr>\n",
       "    <tr>\n",
       "      <th>3</th>\n",
       "      <td>SVM</td>\n",
       "      <td>0.763636</td>\n",
       "      <td>0.535714</td>\n",
       "      <td>1.000000</td>\n",
       "      <td>0.697674</td>\n",
       "      <td>0.050000</td>\n",
       "    </tr>\n",
       "    <tr>\n",
       "      <th>0</th>\n",
       "      <td>Logistic</td>\n",
       "      <td>0.654545</td>\n",
       "      <td>0.250000</td>\n",
       "      <td>0.133333</td>\n",
       "      <td>0.173913</td>\n",
       "      <td>0.516667</td>\n",
       "    </tr>\n",
       "  </tbody>\n",
       "</table>\n",
       "</div>"
      ],
      "text/plain": [
       "            Model  Accuracy  Precision    recall        F1  cv_precision\n",
       "2  Random.Forest.  0.927273   0.789474  1.000000  0.882353      0.650000\n",
       "1   Decision Tree  0.909091   0.777778  0.933333  0.848485      0.516667\n",
       "4             kNN  0.854545   0.652174  1.000000  0.789474      0.516667\n",
       "3             SVM  0.763636   0.535714  1.000000  0.697674      0.050000\n",
       "0        Logistic  0.654545   0.250000  0.133333  0.173913      0.516667"
      ]
     },
     "execution_count": 39,
     "metadata": {},
     "output_type": "execute_result"
    }
   ],
   "source": [
    "# Model comparison\n",
    "models = pd.DataFrame({\n",
    "  'Model': ['Logistic', 'Decision Tree', 'Random.Forest.', 'SVM', 'kNN'],\n",
    "  'Accuracy' : [logit_accuracy, tree_accuracy, rf_accuracy, svm_accuracy, knn_accuracy],\n",
    "  'Precision': [logit_precision, tree_precision, rf_precision, svm_precision, knn_precision],\n",
    "  'recall' : [logit_recall, tree_recall, rf_recall, svm_recall, knn_recall],\n",
    "  'F1' : [logit_f1, tree_f1, rf_f1, svm_f1, knn_f1],\n",
    "  'cv_precision' : [logit_cv_mean, tree_cv_mean, rf_cv_mean, svm_cv_mean, knn_cv_mean]\n",
    "})\n",
    "# Print table and sort by test precision\n",
    "models.sort_values(by='Precision', ascending=False)\n"
   ]
  },
  {
   "cell_type": "markdown",
   "metadata": {},
   "source": [
    "## Summarising Results \n"
   ]
  },
  {
   "cell_type": "markdown",
   "metadata": {},
   "source": [
    "From the above results table, it is clear the Random Forest is the best model based on Accuracy, Precision and Recall metrics. The performance is so good, that I would be concerned about overfitting and a lack of generalisation to future periods of data. However, the classifier was evaluated with K-folds cross-validation (K=10) and also evaluated on the test dataset."
   ]
  }
 ],
 "metadata": {
  "kernelspec": {
   "display_name": "Python 3",
   "language": "python",
   "name": "python3"
  },
  "language_info": {
   "codemirror_mode": {
    "name": "ipython",
    "version": 3
   },
   "file_extension": ".py",
   "mimetype": "text/x-python",
   "name": "python",
   "nbconvert_exporter": "python",
   "pygments_lexer": "ipython3",
   "version": "3.8.5"
  }
 },
 "nbformat": 4,
 "nbformat_minor": 4
}
