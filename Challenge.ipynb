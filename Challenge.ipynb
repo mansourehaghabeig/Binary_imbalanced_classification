{
 "cells": [
  {
   "cell_type": "markdown",
   "metadata": {},
   "source": [
    "## Data Scientist Case Study\n",
    "<p style='text-align: justify;'>\n",
    "A customer wants to be able to identify items corresponding to their label == 1 from their products. They need to be able to screen them with a high recall, that is avoiding false negatives.\n",
    "\n",
    " \n",
    "\n",
    "They have measured a set of items (labeled by sample_id) with multiple sensors (labeled by sensor_id).\n",
    "\n",
    " \n",
    "\n",
    "Do a quick feasibility study.\n",
    "\n",
    "    * How accurately can the labels be identified in this dataset?\n",
    "    * Is the dataset large and diverse enough? Please elaborate on why your answer is yes or no.\n",
    "    * How would you scale this to a production model? \n",
    "\n",
    "The model needs to be able to make the prediction only based on the feature values, i.e., it cannot use the parameters ‘sample’ and ‘sensor id'.\n",
    "\n",
    "Use Python plus Python packages to realize your solution.</p>\n",
    "\n"
   ]
  },
  {
   "cell_type": "markdown",
   "metadata": {},
   "source": [
    "### Structure\n",
    "* **Import libraries and setup Dataframes**\n",
    "* **Exploratory data analysis (EDA)**\n",
    "* **Prepare the Data (preprocessing)**\n",
    "* **Choose the model**\n",
    "* **Train the model**\n",
    "* **Make prediction**\n",
    "* **Summary of Results** \n"
   ]
  },
  {
   "cell_type": "markdown",
   "metadata": {},
   "source": [
    "### Import Libraries & Setup Data"
   ]
  },
  {
   "cell_type": "code",
   "execution_count": 1,
   "metadata": {},
   "outputs": [],
   "source": [
    "import warnings\n",
    "warnings.filterwarnings('ignore')\n",
    "import os\n",
    "import pandas as pd\n",
    "import numpy as np\n",
    "import matplotlib.pyplot as plt\n",
    "import seaborn as sns\n",
    "from sklearn import metrics \n",
    "from sklearn.linear_model import LogisticRegression\n",
    "from sklearn import tree\n",
    "from sklearn.ensemble import RandomForestClassifier\n",
    "from sklearn.svm import SVC\n",
    "from sklearn.neighbors import KNeighborsClassifier\n",
    "from sklearn.naive_bayes import GaussianNB\n",
    "from sklearn.model_selection import cross_val_score\n",
    "from sklearn import metrics\n",
    "from IPython.display import Image  \n",
    "from pydotplus import graph_from_dot_data"
   ]
  },
  {
   "cell_type": "code",
   "execution_count": 2,
   "metadata": {},
   "outputs": [
    {
     "data": {
      "text/html": [
       "<div>\n",
       "<style scoped>\n",
       "    .dataframe tbody tr th:only-of-type {\n",
       "        vertical-align: middle;\n",
       "    }\n",
       "\n",
       "    .dataframe tbody tr th {\n",
       "        vertical-align: top;\n",
       "    }\n",
       "\n",
       "    .dataframe thead th {\n",
       "        text-align: right;\n",
       "    }\n",
       "</style>\n",
       "<table border=\"1\" class=\"dataframe\">\n",
       "  <thead>\n",
       "    <tr style=\"text-align: right;\">\n",
       "      <th></th>\n",
       "      <th>sensor_id</th>\n",
       "      <th>sample_id</th>\n",
       "      <th>label</th>\n",
       "      <th>feature_0</th>\n",
       "      <th>feature_1</th>\n",
       "      <th>feature_2</th>\n",
       "      <th>feature_3</th>\n",
       "      <th>feature_4</th>\n",
       "      <th>feature_5</th>\n",
       "      <th>feature_6</th>\n",
       "      <th>...</th>\n",
       "      <th>feature_191</th>\n",
       "      <th>feature_192</th>\n",
       "      <th>feature_193</th>\n",
       "      <th>feature_194</th>\n",
       "      <th>feature_195</th>\n",
       "      <th>feature_196</th>\n",
       "      <th>feature_197</th>\n",
       "      <th>feature_198</th>\n",
       "      <th>feature_199</th>\n",
       "      <th>feature_200</th>\n",
       "    </tr>\n",
       "  </thead>\n",
       "  <tbody>\n",
       "    <tr>\n",
       "      <th>0</th>\n",
       "      <td>0</td>\n",
       "      <td>0</td>\n",
       "      <td>-1</td>\n",
       "      <td>0.3382</td>\n",
       "      <td>0.3386</td>\n",
       "      <td>0.3391</td>\n",
       "      <td>0.3396</td>\n",
       "      <td>0.3403</td>\n",
       "      <td>0.3411</td>\n",
       "      <td>0.3420</td>\n",
       "      <td>...</td>\n",
       "      <td>0.4345</td>\n",
       "      <td>0.4340</td>\n",
       "      <td>0.4333</td>\n",
       "      <td>0.4324</td>\n",
       "      <td>0.4312</td>\n",
       "      <td>0.4299</td>\n",
       "      <td>0.4283</td>\n",
       "      <td>0.4267</td>\n",
       "      <td>0.4249</td>\n",
       "      <td>0.4232</td>\n",
       "    </tr>\n",
       "    <tr>\n",
       "      <th>1</th>\n",
       "      <td>1</td>\n",
       "      <td>0</td>\n",
       "      <td>-1</td>\n",
       "      <td>0.4883</td>\n",
       "      <td>0.4888</td>\n",
       "      <td>0.4896</td>\n",
       "      <td>0.4905</td>\n",
       "      <td>0.4915</td>\n",
       "      <td>0.4925</td>\n",
       "      <td>0.4937</td>\n",
       "      <td>...</td>\n",
       "      <td>0.5722</td>\n",
       "      <td>0.5714</td>\n",
       "      <td>0.5707</td>\n",
       "      <td>0.5698</td>\n",
       "      <td>0.5687</td>\n",
       "      <td>0.5673</td>\n",
       "      <td>0.5658</td>\n",
       "      <td>0.5641</td>\n",
       "      <td>0.5624</td>\n",
       "      <td>0.5605</td>\n",
       "    </tr>\n",
       "    <tr>\n",
       "      <th>2</th>\n",
       "      <td>2</td>\n",
       "      <td>0</td>\n",
       "      <td>-1</td>\n",
       "      <td>0.4875</td>\n",
       "      <td>0.4882</td>\n",
       "      <td>0.4891</td>\n",
       "      <td>0.4899</td>\n",
       "      <td>0.4910</td>\n",
       "      <td>0.4922</td>\n",
       "      <td>0.4935</td>\n",
       "      <td>...</td>\n",
       "      <td>0.5784</td>\n",
       "      <td>0.5777</td>\n",
       "      <td>0.5768</td>\n",
       "      <td>0.5757</td>\n",
       "      <td>0.5743</td>\n",
       "      <td>0.5728</td>\n",
       "      <td>0.5711</td>\n",
       "      <td>0.5693</td>\n",
       "      <td>0.5678</td>\n",
       "      <td>0.5663</td>\n",
       "    </tr>\n",
       "  </tbody>\n",
       "</table>\n",
       "<p>3 rows × 204 columns</p>\n",
       "</div>"
      ],
      "text/plain": [
       "   sensor_id  sample_id  label  feature_0  feature_1  feature_2  feature_3  \\\n",
       "0          0          0     -1     0.3382     0.3386     0.3391     0.3396   \n",
       "1          1          0     -1     0.4883     0.4888     0.4896     0.4905   \n",
       "2          2          0     -1     0.4875     0.4882     0.4891     0.4899   \n",
       "\n",
       "   feature_4  feature_5  feature_6  ...  feature_191  feature_192  \\\n",
       "0     0.3403     0.3411     0.3420  ...       0.4345       0.4340   \n",
       "1     0.4915     0.4925     0.4937  ...       0.5722       0.5714   \n",
       "2     0.4910     0.4922     0.4935  ...       0.5784       0.5777   \n",
       "\n",
       "   feature_193  feature_194  feature_195  feature_196  feature_197  \\\n",
       "0       0.4333       0.4324       0.4312       0.4299       0.4283   \n",
       "1       0.5707       0.5698       0.5687       0.5673       0.5658   \n",
       "2       0.5768       0.5757       0.5743       0.5728       0.5711   \n",
       "\n",
       "   feature_198  feature_199  feature_200  \n",
       "0       0.4267       0.4249       0.4232  \n",
       "1       0.5641       0.5624       0.5605  \n",
       "2       0.5693       0.5678       0.5663  \n",
       "\n",
       "[3 rows x 204 columns]"
      ]
     },
     "execution_count": 2,
     "metadata": {},
     "output_type": "execute_result"
    }
   ],
   "source": [
    "# Import data\n",
    "df = pd.read_csv(\"exercise.csv\")\n",
    "\n",
    "\n",
    "# check the data\n",
    "df.head(3)\n",
    "#df_test.shape"
   ]
  },
  {
   "cell_type": "code",
   "execution_count": 3,
   "metadata": {},
   "outputs": [
    {
     "name": "stdout",
     "output_type": "stream",
     "text": [
      "<class 'pandas.core.frame.DataFrame'>\n",
      "RangeIndex: 565 entries, 0 to 564\n",
      "Columns: 204 entries, sensor_id to feature_200\n",
      "dtypes: float64(201), int64(3)\n",
      "memory usage: 900.6 KB\n"
     ]
    }
   ],
   "source": [
    "df.info()"
   ]
  },
  {
   "cell_type": "code",
   "execution_count": 4,
   "metadata": {},
   "outputs": [
    {
     "data": {
      "text/plain": [
       "(565, 204)"
      ]
     },
     "execution_count": 4,
     "metadata": {},
     "output_type": "execute_result"
    }
   ],
   "source": [
    "df.shape"
   ]
  },
  {
   "cell_type": "markdown",
   "metadata": {},
   "source": [
    "### Exploratory data analysis (EDA)"
   ]
  },
  {
   "cell_type": "code",
   "execution_count": 5,
   "metadata": {},
   "outputs": [
    {
     "data": {
      "text/plain": [
       "Text(0.5, 1.0, 'Target variable count')"
      ]
     },
     "execution_count": 5,
     "metadata": {},
     "output_type": "execute_result"
    },
    {
     "data": {
      "image/png": "[encoded data removed]",
      "text/plain": [
       "<Figure size 432x288 with 1 Axes>"
      ]
     },
     "metadata": {
      "needs_background": "light"
     },
     "output_type": "display_data"
    }
   ],
   "source": [
    "x=df['label'].value_counts().values\n",
    "sns.barplot([-1,1],x)\n",
    "plt.title('Target variable count')"
   ]
  },
  {
   "cell_type": "markdown",
   "metadata": {},
   "source": [
    "* There is clearly a class imbalace problem.\n",
    "*  We will look into methods of solving this issue later in this notebook.\n",
    " "
   ]
  },
  {
   "cell_type": "markdown",
   "metadata": {},
   "source": [
    "### Make balance dataset"
   ]
  },
  {
   "cell_type": "markdown",
   "metadata": {},
   "source": [
    "Oversampling can be defined as adding more copies of the minority class. Oversampling can be a good choice when you don’t have a ton of data to work with.\n",
    "\n",
    "We will use the resampling module from Scikit-Learn to randomly replicate samples from the minority class.\n"
   ]
  },
  {
   "cell_type": "code",
   "execution_count": 6,
   "metadata": {},
   "outputs": [
    {
     "data": {
      "text/html": [
       "<div>\n",
       "<style scoped>\n",
       "    .dataframe tbody tr th:only-of-type {\n",
       "        vertical-align: middle;\n",
       "    }\n",
       "\n",
       "    .dataframe tbody tr th {\n",
       "        vertical-align: top;\n",
       "    }\n",
       "\n",
       "    .dataframe thead th {\n",
       "        text-align: right;\n",
       "    }\n",
       "</style>\n",
       "<table border=\"1\" class=\"dataframe\">\n",
       "  <thead>\n",
       "    <tr style=\"text-align: right;\">\n",
       "      <th></th>\n",
       "      <th>label</th>\n",
       "      <th>feature_0</th>\n",
       "      <th>feature_1</th>\n",
       "      <th>feature_2</th>\n",
       "      <th>feature_3</th>\n",
       "      <th>feature_4</th>\n",
       "      <th>feature_5</th>\n",
       "      <th>feature_6</th>\n",
       "      <th>feature_7</th>\n",
       "      <th>feature_8</th>\n",
       "      <th>...</th>\n",
       "      <th>feature_191</th>\n",
       "      <th>feature_192</th>\n",
       "      <th>feature_193</th>\n",
       "      <th>feature_194</th>\n",
       "      <th>feature_195</th>\n",
       "      <th>feature_196</th>\n",
       "      <th>feature_197</th>\n",
       "      <th>feature_198</th>\n",
       "      <th>feature_199</th>\n",
       "      <th>feature_200</th>\n",
       "    </tr>\n",
       "  </thead>\n",
       "  <tbody>\n",
       "    <tr>\n",
       "      <th>0</th>\n",
       "      <td>-1</td>\n",
       "      <td>0.3382</td>\n",
       "      <td>0.3386</td>\n",
       "      <td>0.3391</td>\n",
       "      <td>0.3396</td>\n",
       "      <td>0.3403</td>\n",
       "      <td>0.3411</td>\n",
       "      <td>0.3420</td>\n",
       "      <td>0.3430</td>\n",
       "      <td>0.3441</td>\n",
       "      <td>...</td>\n",
       "      <td>0.4345</td>\n",
       "      <td>0.4340</td>\n",
       "      <td>0.4333</td>\n",
       "      <td>0.4324</td>\n",
       "      <td>0.4312</td>\n",
       "      <td>0.4299</td>\n",
       "      <td>0.4283</td>\n",
       "      <td>0.4267</td>\n",
       "      <td>0.4249</td>\n",
       "      <td>0.4232</td>\n",
       "    </tr>\n",
       "    <tr>\n",
       "      <th>1</th>\n",
       "      <td>-1</td>\n",
       "      <td>0.4883</td>\n",
       "      <td>0.4888</td>\n",
       "      <td>0.4896</td>\n",
       "      <td>0.4905</td>\n",
       "      <td>0.4915</td>\n",
       "      <td>0.4925</td>\n",
       "      <td>0.4937</td>\n",
       "      <td>0.4949</td>\n",
       "      <td>0.4963</td>\n",
       "      <td>...</td>\n",
       "      <td>0.5722</td>\n",
       "      <td>0.5714</td>\n",
       "      <td>0.5707</td>\n",
       "      <td>0.5698</td>\n",
       "      <td>0.5687</td>\n",
       "      <td>0.5673</td>\n",
       "      <td>0.5658</td>\n",
       "      <td>0.5641</td>\n",
       "      <td>0.5624</td>\n",
       "      <td>0.5605</td>\n",
       "    </tr>\n",
       "    <tr>\n",
       "      <th>2</th>\n",
       "      <td>-1</td>\n",
       "      <td>0.4875</td>\n",
       "      <td>0.4882</td>\n",
       "      <td>0.4891</td>\n",
       "      <td>0.4899</td>\n",
       "      <td>0.4910</td>\n",
       "      <td>0.4922</td>\n",
       "      <td>0.4935</td>\n",
       "      <td>0.4950</td>\n",
       "      <td>0.4965</td>\n",
       "      <td>...</td>\n",
       "      <td>0.5784</td>\n",
       "      <td>0.5777</td>\n",
       "      <td>0.5768</td>\n",
       "      <td>0.5757</td>\n",
       "      <td>0.5743</td>\n",
       "      <td>0.5728</td>\n",
       "      <td>0.5711</td>\n",
       "      <td>0.5693</td>\n",
       "      <td>0.5678</td>\n",
       "      <td>0.5663</td>\n",
       "    </tr>\n",
       "  </tbody>\n",
       "</table>\n",
       "<p>3 rows × 202 columns</p>\n",
       "</div>"
      ],
      "text/plain": [
       "   label  feature_0  feature_1  feature_2  feature_3  feature_4  feature_5  \\\n",
       "0     -1     0.3382     0.3386     0.3391     0.3396     0.3403     0.3411   \n",
       "1     -1     0.4883     0.4888     0.4896     0.4905     0.4915     0.4925   \n",
       "2     -1     0.4875     0.4882     0.4891     0.4899     0.4910     0.4922   \n",
       "\n",
       "   feature_6  feature_7  feature_8  ...  feature_191  feature_192  \\\n",
       "0     0.3420     0.3430     0.3441  ...       0.4345       0.4340   \n",
       "1     0.4937     0.4949     0.4963  ...       0.5722       0.5714   \n",
       "2     0.4935     0.4950     0.4965  ...       0.5784       0.5777   \n",
       "\n",
       "   feature_193  feature_194  feature_195  feature_196  feature_197  \\\n",
       "0       0.4333       0.4324       0.4312       0.4299       0.4283   \n",
       "1       0.5707       0.5698       0.5687       0.5673       0.5658   \n",
       "2       0.5768       0.5757       0.5743       0.5728       0.5711   \n",
       "\n",
       "   feature_198  feature_199  feature_200  \n",
       "0       0.4267       0.4249       0.4232  \n",
       "1       0.5641       0.5624       0.5605  \n",
       "2       0.5693       0.5678       0.5663  \n",
       "\n",
       "[3 rows x 202 columns]"
      ]
     },
     "execution_count": 6,
     "metadata": {},
     "output_type": "execute_result"
    }
   ],
   "source": [
    "df.drop(['sensor_id','sample_id'], axis =1, inplace= True)\n",
    "\n",
    "# check the data\n",
    "df.head(3)\n",
    "#df_test.shape"
   ]
  },
  {
   "cell_type": "code",
   "execution_count": 7,
   "metadata": {},
   "outputs": [],
   "source": [
    "from imblearn.over_sampling import RandomOverSampler\n",
    "oversample = RandomOverSampler(sampling_strategy='minority')\n",
    "X = df.drop(['label'], axis=1)\n",
    "y = df['label']\n",
    "\n",
    "# define oversampling strategy\n",
    "oversample = RandomOverSampler(sampling_strategy='minority')\n",
    "# fit and apply the transform\n",
    "X_over, y_over = oversample.fit_resample(X, y)\n",
    "\n",
    "df=pd.concat([X_over,y_over],axis=1)"
   ]
  },
  {
   "cell_type": "code",
   "execution_count": 8,
   "metadata": {},
   "outputs": [
    {
     "data": {
      "text/plain": [
       "Text(0.5, 1.0, 'Target variable count')"
      ]
     },
     "execution_count": 8,
     "metadata": {},
     "output_type": "execute_result"
    },
    {
     "data": {
      "image/png": "[encoded data removed]",
      "text/plain": [
       "<Figure size 432x288 with 1 Axes>"
      ]
     },
     "metadata": {
      "needs_background": "light"
     },
     "output_type": "display_data"
    }
   ],
   "source": [
    "x=df['label'].value_counts().values\n",
    "sns.barplot([-1,1],x)\n",
    "plt.title('Target variable count')"
   ]
  },
  {
   "cell_type": "code",
   "execution_count": 9,
   "metadata": {},
   "outputs": [
    {
     "data": {
      "text/plain": [
       "(1098, 202)"
      ]
     },
     "execution_count": 9,
     "metadata": {},
     "output_type": "execute_result"
    }
   ],
   "source": [
    "df.shape"
   ]
  },
  {
   "cell_type": "code",
   "execution_count": 10,
   "metadata": {},
   "outputs": [
    {
     "data": {
      "text/html": [
       "<div>\n",
       "<style scoped>\n",
       "    .dataframe tbody tr th:only-of-type {\n",
       "        vertical-align: middle;\n",
       "    }\n",
       "\n",
       "    .dataframe tbody tr th {\n",
       "        vertical-align: top;\n",
       "    }\n",
       "\n",
       "    .dataframe thead th {\n",
       "        text-align: right;\n",
       "    }\n",
       "</style>\n",
       "<table border=\"1\" class=\"dataframe\">\n",
       "  <thead>\n",
       "    <tr style=\"text-align: right;\">\n",
       "      <th></th>\n",
       "      <th>feature_0</th>\n",
       "      <th>feature_1</th>\n",
       "      <th>feature_2</th>\n",
       "      <th>feature_3</th>\n",
       "      <th>feature_4</th>\n",
       "      <th>feature_5</th>\n",
       "      <th>feature_6</th>\n",
       "      <th>feature_7</th>\n",
       "      <th>feature_8</th>\n",
       "      <th>feature_9</th>\n",
       "      <th>...</th>\n",
       "      <th>feature_192</th>\n",
       "      <th>feature_193</th>\n",
       "      <th>feature_194</th>\n",
       "      <th>feature_195</th>\n",
       "      <th>feature_196</th>\n",
       "      <th>feature_197</th>\n",
       "      <th>feature_198</th>\n",
       "      <th>feature_199</th>\n",
       "      <th>feature_200</th>\n",
       "      <th>label</th>\n",
       "    </tr>\n",
       "  </thead>\n",
       "  <tbody>\n",
       "    <tr>\n",
       "      <th>0</th>\n",
       "      <td>0.3382</td>\n",
       "      <td>0.3386</td>\n",
       "      <td>0.3391</td>\n",
       "      <td>0.3396</td>\n",
       "      <td>0.3403</td>\n",
       "      <td>0.3411</td>\n",
       "      <td>0.3420</td>\n",
       "      <td>0.3430</td>\n",
       "      <td>0.3441</td>\n",
       "      <td>0.3452</td>\n",
       "      <td>...</td>\n",
       "      <td>0.4340</td>\n",
       "      <td>0.4333</td>\n",
       "      <td>0.4324</td>\n",
       "      <td>0.4312</td>\n",
       "      <td>0.4299</td>\n",
       "      <td>0.4283</td>\n",
       "      <td>0.4267</td>\n",
       "      <td>0.4249</td>\n",
       "      <td>0.4232</td>\n",
       "      <td>-1</td>\n",
       "    </tr>\n",
       "    <tr>\n",
       "      <th>1</th>\n",
       "      <td>0.4883</td>\n",
       "      <td>0.4888</td>\n",
       "      <td>0.4896</td>\n",
       "      <td>0.4905</td>\n",
       "      <td>0.4915</td>\n",
       "      <td>0.4925</td>\n",
       "      <td>0.4937</td>\n",
       "      <td>0.4949</td>\n",
       "      <td>0.4963</td>\n",
       "      <td>0.4978</td>\n",
       "      <td>...</td>\n",
       "      <td>0.5714</td>\n",
       "      <td>0.5707</td>\n",
       "      <td>0.5698</td>\n",
       "      <td>0.5687</td>\n",
       "      <td>0.5673</td>\n",
       "      <td>0.5658</td>\n",
       "      <td>0.5641</td>\n",
       "      <td>0.5624</td>\n",
       "      <td>0.5605</td>\n",
       "      <td>-1</td>\n",
       "    </tr>\n",
       "    <tr>\n",
       "      <th>2</th>\n",
       "      <td>0.4875</td>\n",
       "      <td>0.4882</td>\n",
       "      <td>0.4891</td>\n",
       "      <td>0.4899</td>\n",
       "      <td>0.4910</td>\n",
       "      <td>0.4922</td>\n",
       "      <td>0.4935</td>\n",
       "      <td>0.4950</td>\n",
       "      <td>0.4965</td>\n",
       "      <td>0.4982</td>\n",
       "      <td>...</td>\n",
       "      <td>0.5777</td>\n",
       "      <td>0.5768</td>\n",
       "      <td>0.5757</td>\n",
       "      <td>0.5743</td>\n",
       "      <td>0.5728</td>\n",
       "      <td>0.5711</td>\n",
       "      <td>0.5693</td>\n",
       "      <td>0.5678</td>\n",
       "      <td>0.5663</td>\n",
       "      <td>-1</td>\n",
       "    </tr>\n",
       "    <tr>\n",
       "      <th>3</th>\n",
       "      <td>0.5302</td>\n",
       "      <td>0.5307</td>\n",
       "      <td>0.5315</td>\n",
       "      <td>0.5323</td>\n",
       "      <td>0.5334</td>\n",
       "      <td>0.5345</td>\n",
       "      <td>0.5358</td>\n",
       "      <td>0.5371</td>\n",
       "      <td>0.5387</td>\n",
       "      <td>0.5403</td>\n",
       "      <td>...</td>\n",
       "      <td>0.6226</td>\n",
       "      <td>0.6220</td>\n",
       "      <td>0.6211</td>\n",
       "      <td>0.6201</td>\n",
       "      <td>0.6189</td>\n",
       "      <td>0.6177</td>\n",
       "      <td>0.6162</td>\n",
       "      <td>0.6148</td>\n",
       "      <td>0.6136</td>\n",
       "      <td>-1</td>\n",
       "    </tr>\n",
       "    <tr>\n",
       "      <th>4</th>\n",
       "      <td>0.4593</td>\n",
       "      <td>0.4600</td>\n",
       "      <td>0.4609</td>\n",
       "      <td>0.4619</td>\n",
       "      <td>0.4629</td>\n",
       "      <td>0.4642</td>\n",
       "      <td>0.4655</td>\n",
       "      <td>0.4669</td>\n",
       "      <td>0.4684</td>\n",
       "      <td>0.4701</td>\n",
       "      <td>...</td>\n",
       "      <td>0.5443</td>\n",
       "      <td>0.5433</td>\n",
       "      <td>0.5422</td>\n",
       "      <td>0.5407</td>\n",
       "      <td>0.5391</td>\n",
       "      <td>0.5375</td>\n",
       "      <td>0.5361</td>\n",
       "      <td>0.5346</td>\n",
       "      <td>0.5335</td>\n",
       "      <td>-1</td>\n",
       "    </tr>\n",
       "  </tbody>\n",
       "</table>\n",
       "<p>5 rows × 202 columns</p>\n",
       "</div>"
      ],
      "text/plain": [
       "   feature_0  feature_1  feature_2  feature_3  feature_4  feature_5  \\\n",
       "0     0.3382     0.3386     0.3391     0.3396     0.3403     0.3411   \n",
       "1     0.4883     0.4888     0.4896     0.4905     0.4915     0.4925   \n",
       "2     0.4875     0.4882     0.4891     0.4899     0.4910     0.4922   \n",
       "3     0.5302     0.5307     0.5315     0.5323     0.5334     0.5345   \n",
       "4     0.4593     0.4600     0.4609     0.4619     0.4629     0.4642   \n",
       "\n",
       "   feature_6  feature_7  feature_8  feature_9  ...  feature_192  feature_193  \\\n",
       "0     0.3420     0.3430     0.3441     0.3452  ...       0.4340       0.4333   \n",
       "1     0.4937     0.4949     0.4963     0.4978  ...       0.5714       0.5707   \n",
       "2     0.4935     0.4950     0.4965     0.4982  ...       0.5777       0.5768   \n",
       "3     0.5358     0.5371     0.5387     0.5403  ...       0.6226       0.6220   \n",
       "4     0.4655     0.4669     0.4684     0.4701  ...       0.5443       0.5433   \n",
       "\n",
       "   feature_194  feature_195  feature_196  feature_197  feature_198  \\\n",
       "0       0.4324       0.4312       0.4299       0.4283       0.4267   \n",
       "1       0.5698       0.5687       0.5673       0.5658       0.5641   \n",
       "2       0.5757       0.5743       0.5728       0.5711       0.5693   \n",
       "3       0.6211       0.6201       0.6189       0.6177       0.6162   \n",
       "4       0.5422       0.5407       0.5391       0.5375       0.5361   \n",
       "\n",
       "   feature_199  feature_200  label  \n",
       "0       0.4249       0.4232     -1  \n",
       "1       0.5624       0.5605     -1  \n",
       "2       0.5678       0.5663     -1  \n",
       "3       0.6148       0.6136     -1  \n",
       "4       0.5346       0.5335     -1  \n",
       "\n",
       "[5 rows x 202 columns]"
      ]
     },
     "execution_count": 10,
     "metadata": {},
     "output_type": "execute_result"
    }
   ],
   "source": [
    "df.head()"
   ]
  },
  {
   "cell_type": "markdown",
   "metadata": {},
   "source": [
    "### Checking Data distribution"
   ]
  },
  {
   "cell_type": "code",
   "execution_count": 11,
   "metadata": {},
   "outputs": [
    {
     "data": {
      "text/plain": [
       "[dtype('int64'), dtype('float64')]"
      ]
     },
     "execution_count": 11,
     "metadata": {},
     "output_type": "execute_result"
    }
   ],
   "source": [
    "list(set(df.dtypes.tolist()))"
   ]
  },
  {
   "cell_type": "markdown",
   "metadata": {},
   "source": [
    "As we have 200 features in dataset, we are not able to one by one check visually distribution of each features. So we should answer to these two questions:\n",
    "\n",
    "* Is there any outliers in our features? \n",
    "* Can we drop some features in our dataset to make simpler our machine learning model?\n",
    "\n",
    "For answering the first question:\n",
    "\n",
    "1) Remove unneeded, irrelevant features\n",
    "\n",
    "2) we need to answer the question that is there any missing values in our data? if so, we should handel them and then check the outliers in our dataset"
   ]
  },
  {
   "cell_type": "markdown",
   "metadata": {},
   "source": [
    "### checking outliers"
   ]
  },
  {
   "cell_type": "markdown",
   "metadata": {},
   "source": [
    "1. **Remove unneeded, irrelevant features**"
   ]
  },
  {
   "cell_type": "markdown",
   "metadata": {},
   "source": [
    "2. **Checking missing values in dataset**\n"
   ]
  },
  {
   "cell_type": "code",
   "execution_count": 12,
   "metadata": {},
   "outputs": [
    {
     "data": {
      "text/html": [
       "<div>\n",
       "<style scoped>\n",
       "    .dataframe tbody tr th:only-of-type {\n",
       "        vertical-align: middle;\n",
       "    }\n",
       "\n",
       "    .dataframe tbody tr th {\n",
       "        vertical-align: top;\n",
       "    }\n",
       "\n",
       "    .dataframe thead th {\n",
       "        text-align: right;\n",
       "    }\n",
       "</style>\n",
       "<table border=\"1\" class=\"dataframe\">\n",
       "  <thead>\n",
       "    <tr style=\"text-align: right;\">\n",
       "      <th></th>\n",
       "      <th>feature_0</th>\n",
       "      <th>feature_1</th>\n",
       "      <th>feature_2</th>\n",
       "      <th>feature_3</th>\n",
       "      <th>feature_4</th>\n",
       "      <th>feature_5</th>\n",
       "      <th>feature_6</th>\n",
       "      <th>feature_7</th>\n",
       "      <th>feature_8</th>\n",
       "      <th>feature_9</th>\n",
       "      <th>...</th>\n",
       "      <th>feature_192</th>\n",
       "      <th>feature_193</th>\n",
       "      <th>feature_194</th>\n",
       "      <th>feature_195</th>\n",
       "      <th>feature_196</th>\n",
       "      <th>feature_197</th>\n",
       "      <th>feature_198</th>\n",
       "      <th>feature_199</th>\n",
       "      <th>feature_200</th>\n",
       "      <th>label</th>\n",
       "    </tr>\n",
       "  </thead>\n",
       "  <tbody>\n",
       "    <tr>\n",
       "      <th>column Type</th>\n",
       "      <td>float64</td>\n",
       "      <td>float64</td>\n",
       "      <td>float64</td>\n",
       "      <td>float64</td>\n",
       "      <td>float64</td>\n",
       "      <td>float64</td>\n",
       "      <td>float64</td>\n",
       "      <td>float64</td>\n",
       "      <td>float64</td>\n",
       "      <td>float64</td>\n",
       "      <td>...</td>\n",
       "      <td>float64</td>\n",
       "      <td>float64</td>\n",
       "      <td>float64</td>\n",
       "      <td>float64</td>\n",
       "      <td>float64</td>\n",
       "      <td>float64</td>\n",
       "      <td>float64</td>\n",
       "      <td>float64</td>\n",
       "      <td>float64</td>\n",
       "      <td>int64</td>\n",
       "    </tr>\n",
       "    <tr>\n",
       "      <th>null values (nb)</th>\n",
       "      <td>0</td>\n",
       "      <td>0</td>\n",
       "      <td>0</td>\n",
       "      <td>0</td>\n",
       "      <td>0</td>\n",
       "      <td>0</td>\n",
       "      <td>0</td>\n",
       "      <td>0</td>\n",
       "      <td>0</td>\n",
       "      <td>0</td>\n",
       "      <td>...</td>\n",
       "      <td>0</td>\n",
       "      <td>0</td>\n",
       "      <td>0</td>\n",
       "      <td>0</td>\n",
       "      <td>0</td>\n",
       "      <td>0</td>\n",
       "      <td>0</td>\n",
       "      <td>0</td>\n",
       "      <td>0</td>\n",
       "      <td>0</td>\n",
       "    </tr>\n",
       "    <tr>\n",
       "      <th>null values (%)</th>\n",
       "      <td>0</td>\n",
       "      <td>0</td>\n",
       "      <td>0</td>\n",
       "      <td>0</td>\n",
       "      <td>0</td>\n",
       "      <td>0</td>\n",
       "      <td>0</td>\n",
       "      <td>0</td>\n",
       "      <td>0</td>\n",
       "      <td>0</td>\n",
       "      <td>...</td>\n",
       "      <td>0</td>\n",
       "      <td>0</td>\n",
       "      <td>0</td>\n",
       "      <td>0</td>\n",
       "      <td>0</td>\n",
       "      <td>0</td>\n",
       "      <td>0</td>\n",
       "      <td>0</td>\n",
       "      <td>0</td>\n",
       "      <td>0</td>\n",
       "    </tr>\n",
       "  </tbody>\n",
       "</table>\n",
       "<p>3 rows × 202 columns</p>\n",
       "</div>"
      ],
      "text/plain": [
       "                 feature_0 feature_1 feature_2 feature_3 feature_4 feature_5  \\\n",
       "column Type        float64   float64   float64   float64   float64   float64   \n",
       "null values (nb)         0         0         0         0         0         0   \n",
       "null values (%)          0         0         0         0         0         0   \n",
       "\n",
       "                 feature_6 feature_7 feature_8 feature_9  ... feature_192  \\\n",
       "column Type        float64   float64   float64   float64  ...     float64   \n",
       "null values (nb)         0         0         0         0  ...           0   \n",
       "null values (%)          0         0         0         0  ...           0   \n",
       "\n",
       "                 feature_193 feature_194 feature_195 feature_196 feature_197  \\\n",
       "column Type          float64     float64     float64     float64     float64   \n",
       "null values (nb)           0           0           0           0           0   \n",
       "null values (%)            0           0           0           0           0   \n",
       "\n",
       "                 feature_198 feature_199 feature_200  label  \n",
       "column Type          float64     float64     float64  int64  \n",
       "null values (nb)           0           0           0      0  \n",
       "null values (%)            0           0           0      0  \n",
       "\n",
       "[3 rows x 202 columns]"
      ]
     },
     "execution_count": 12,
     "metadata": {},
     "output_type": "execute_result"
    }
   ],
   "source": [
    "# Check where we find NaN values\n",
    "\n",
    "tab_info = pd.DataFrame(df.dtypes).T.rename(index={0:'column Type'}) \n",
    "tab_info = tab_info.append(pd.DataFrame(df.isnull().sum()).T.rename(index={0:'null values (nb)'}))\n",
    "tab_info = tab_info.append(pd.DataFrame(df.isnull().sum()/df.shape[0]*100).T.\n",
    "                                       rename(index={0: 'null values (%)'}))\n",
    "tab_info"
   ]
  },
  {
   "cell_type": "code",
   "execution_count": 13,
   "metadata": {
    "scrolled": true
   },
   "outputs": [
    {
     "data": {
      "text/plain": [
       "feature_0      0\n",
       "feature_1      0\n",
       "feature_2      0\n",
       "feature_3      0\n",
       "feature_4      0\n",
       "              ..\n",
       "feature_197    0\n",
       "feature_198    0\n",
       "feature_199    0\n",
       "feature_200    0\n",
       "label          0\n",
       "Length: 202, dtype: int64"
      ]
     },
     "execution_count": 13,
     "metadata": {},
     "output_type": "execute_result"
    }
   ],
   "source": [
    "df.isnull().sum()"
   ]
  },
  {
   "cell_type": "code",
   "execution_count": 14,
   "metadata": {},
   "outputs": [
    {
     "data": {
      "image/png": "[encoded data removed]",
      "text/plain": [
       "<Figure size 720x576 with 1 Axes>"
      ]
     },
     "metadata": {
      "needs_background": "light"
     },
     "output_type": "display_data"
    }
   ],
   "source": [
    "df.isna().sum().plot(kind=\"bar\",figsize=(10, 8))\n",
    "plt.title(\"no of null values in train data\")\n",
    "plt.show()\n",
    "\n"
   ]
  },
  {
   "cell_type": "markdown",
   "metadata": {},
   "source": [
    "No missing values, that's great. Next we can look at outliers in the features and remove them from dataset as it can influence on the accuracy of the machine learning model."
   ]
  },
  {
   "cell_type": "markdown",
   "metadata": {},
   "source": [
    "3. **Checking outliers in dataset and removing them**"
   ]
  },
  {
   "cell_type": "code",
   "execution_count": 15,
   "metadata": {},
   "outputs": [
    {
     "data": {
      "text/plain": [
       "(1098, 202)"
      ]
     },
     "execution_count": 15,
     "metadata": {},
     "output_type": "execute_result"
    }
   ],
   "source": [
    "df.shape"
   ]
  },
  {
   "cell_type": "code",
   "execution_count": 16,
   "metadata": {},
   "outputs": [],
   "source": [
    "from scipy import stats\n",
    "\n",
    "def drop_outliers(df, z_thresh=3):\n",
    "    # Constrains will contain `True` or `False` depending on if it is a value below the threshold.\n",
    "    constrains = df.select_dtypes(include=[np.number]).apply(lambda x: np.abs(stats.zscore(x)) < z_thresh).all(axis=1)\n",
    "   # Drop (inplace) values set to be rejected\n",
    "    df.drop(df.index[~constrains], inplace=True)\n",
    "drop_outliers(df)"
   ]
  },
  {
   "cell_type": "code",
   "execution_count": 17,
   "metadata": {},
   "outputs": [
    {
     "data": {
      "text/plain": [
       "(1038, 202)"
      ]
     },
     "execution_count": 17,
     "metadata": {},
     "output_type": "execute_result"
    }
   ],
   "source": [
    "df.shape"
   ]
  },
  {
   "cell_type": "markdown",
   "metadata": {},
   "source": [
    "### DImentinality reduction"
   ]
  },
  {
   "cell_type": "markdown",
   "metadata": {},
   "source": [
    "**Checking Target feature to know if we have a balanced classification problem**\n",
    "\n",
    "One way to simplify our model is remove the features from dataset that do not have an important influence on the target feature. One way to understand the influence of each feature on target feature is calculating correlation heatmap. And if a feature has a low correlation to target feature, we can remove it from the dataset.  "
   ]
  },
  {
   "cell_type": "code",
   "execution_count": 18,
   "metadata": {},
   "outputs": [
    {
     "data": {
      "text/html": [
       "<div>\n",
       "<style scoped>\n",
       "    .dataframe tbody tr th:only-of-type {\n",
       "        vertical-align: middle;\n",
       "    }\n",
       "\n",
       "    .dataframe tbody tr th {\n",
       "        vertical-align: top;\n",
       "    }\n",
       "\n",
       "    .dataframe thead th {\n",
       "        text-align: right;\n",
       "    }\n",
       "</style>\n",
       "<table border=\"1\" class=\"dataframe\">\n",
       "  <thead>\n",
       "    <tr style=\"text-align: right;\">\n",
       "      <th></th>\n",
       "      <th>feature_0</th>\n",
       "      <th>feature_1</th>\n",
       "      <th>feature_2</th>\n",
       "      <th>feature_3</th>\n",
       "      <th>feature_4</th>\n",
       "      <th>feature_5</th>\n",
       "      <th>feature_6</th>\n",
       "      <th>feature_7</th>\n",
       "      <th>feature_8</th>\n",
       "      <th>feature_9</th>\n",
       "      <th>...</th>\n",
       "      <th>feature_192</th>\n",
       "      <th>feature_193</th>\n",
       "      <th>feature_194</th>\n",
       "      <th>feature_195</th>\n",
       "      <th>feature_196</th>\n",
       "      <th>feature_197</th>\n",
       "      <th>feature_198</th>\n",
       "      <th>feature_199</th>\n",
       "      <th>feature_200</th>\n",
       "      <th>label</th>\n",
       "    </tr>\n",
       "  </thead>\n",
       "  <tbody>\n",
       "    <tr>\n",
       "      <th>feature_0</th>\n",
       "      <td>1.000000</td>\n",
       "      <td>0.999996</td>\n",
       "      <td>0.999983</td>\n",
       "      <td>0.999962</td>\n",
       "      <td>0.999935</td>\n",
       "      <td>0.999899</td>\n",
       "      <td>0.999856</td>\n",
       "      <td>0.999798</td>\n",
       "      <td>0.999717</td>\n",
       "      <td>0.999595</td>\n",
       "      <td>...</td>\n",
       "      <td>0.954457</td>\n",
       "      <td>0.953964</td>\n",
       "      <td>0.953602</td>\n",
       "      <td>0.953327</td>\n",
       "      <td>0.953226</td>\n",
       "      <td>0.953239</td>\n",
       "      <td>0.953401</td>\n",
       "      <td>0.953603</td>\n",
       "      <td>0.953969</td>\n",
       "      <td>0.075679</td>\n",
       "    </tr>\n",
       "    <tr>\n",
       "      <th>feature_1</th>\n",
       "      <td>0.999996</td>\n",
       "      <td>1.000000</td>\n",
       "      <td>0.999995</td>\n",
       "      <td>0.999982</td>\n",
       "      <td>0.999962</td>\n",
       "      <td>0.999933</td>\n",
       "      <td>0.999896</td>\n",
       "      <td>0.999842</td>\n",
       "      <td>0.999764</td>\n",
       "      <td>0.999643</td>\n",
       "      <td>...</td>\n",
       "      <td>0.954902</td>\n",
       "      <td>0.954412</td>\n",
       "      <td>0.954052</td>\n",
       "      <td>0.953778</td>\n",
       "      <td>0.953677</td>\n",
       "      <td>0.953688</td>\n",
       "      <td>0.953848</td>\n",
       "      <td>0.954046</td>\n",
       "      <td>0.954408</td>\n",
       "      <td>0.075256</td>\n",
       "    </tr>\n",
       "    <tr>\n",
       "      <th>feature_2</th>\n",
       "      <td>0.999983</td>\n",
       "      <td>0.999995</td>\n",
       "      <td>1.000000</td>\n",
       "      <td>0.999995</td>\n",
       "      <td>0.999983</td>\n",
       "      <td>0.999961</td>\n",
       "      <td>0.999930</td>\n",
       "      <td>0.999881</td>\n",
       "      <td>0.999806</td>\n",
       "      <td>0.999686</td>\n",
       "      <td>...</td>\n",
       "      <td>0.955428</td>\n",
       "      <td>0.954942</td>\n",
       "      <td>0.954584</td>\n",
       "      <td>0.954311</td>\n",
       "      <td>0.954209</td>\n",
       "      <td>0.954218</td>\n",
       "      <td>0.954374</td>\n",
       "      <td>0.954569</td>\n",
       "      <td>0.954926</td>\n",
       "      <td>0.074647</td>\n",
       "    </tr>\n",
       "    <tr>\n",
       "      <th>feature_3</th>\n",
       "      <td>0.999962</td>\n",
       "      <td>0.999982</td>\n",
       "      <td>0.999995</td>\n",
       "      <td>1.000000</td>\n",
       "      <td>0.999995</td>\n",
       "      <td>0.999981</td>\n",
       "      <td>0.999957</td>\n",
       "      <td>0.999914</td>\n",
       "      <td>0.999843</td>\n",
       "      <td>0.999728</td>\n",
       "      <td>...</td>\n",
       "      <td>0.955993</td>\n",
       "      <td>0.955510</td>\n",
       "      <td>0.955154</td>\n",
       "      <td>0.954881</td>\n",
       "      <td>0.954778</td>\n",
       "      <td>0.954785</td>\n",
       "      <td>0.954938</td>\n",
       "      <td>0.955129</td>\n",
       "      <td>0.955482</td>\n",
       "      <td>0.073967</td>\n",
       "    </tr>\n",
       "    <tr>\n",
       "      <th>feature_4</th>\n",
       "      <td>0.999935</td>\n",
       "      <td>0.999962</td>\n",
       "      <td>0.999983</td>\n",
       "      <td>0.999995</td>\n",
       "      <td>1.000000</td>\n",
       "      <td>0.999995</td>\n",
       "      <td>0.999979</td>\n",
       "      <td>0.999944</td>\n",
       "      <td>0.999883</td>\n",
       "      <td>0.999776</td>\n",
       "      <td>...</td>\n",
       "      <td>0.956460</td>\n",
       "      <td>0.955978</td>\n",
       "      <td>0.955621</td>\n",
       "      <td>0.955346</td>\n",
       "      <td>0.955240</td>\n",
       "      <td>0.955243</td>\n",
       "      <td>0.955390</td>\n",
       "      <td>0.955575</td>\n",
       "      <td>0.955923</td>\n",
       "      <td>0.074005</td>\n",
       "    </tr>\n",
       "    <tr>\n",
       "      <th>...</th>\n",
       "      <td>...</td>\n",
       "      <td>...</td>\n",
       "      <td>...</td>\n",
       "      <td>...</td>\n",
       "      <td>...</td>\n",
       "      <td>...</td>\n",
       "      <td>...</td>\n",
       "      <td>...</td>\n",
       "      <td>...</td>\n",
       "      <td>...</td>\n",
       "      <td>...</td>\n",
       "      <td>...</td>\n",
       "      <td>...</td>\n",
       "      <td>...</td>\n",
       "      <td>...</td>\n",
       "      <td>...</td>\n",
       "      <td>...</td>\n",
       "      <td>...</td>\n",
       "      <td>...</td>\n",
       "      <td>...</td>\n",
       "      <td>...</td>\n",
       "    </tr>\n",
       "    <tr>\n",
       "      <th>feature_197</th>\n",
       "      <td>0.953239</td>\n",
       "      <td>0.953688</td>\n",
       "      <td>0.954218</td>\n",
       "      <td>0.954785</td>\n",
       "      <td>0.955243</td>\n",
       "      <td>0.955671</td>\n",
       "      <td>0.955920</td>\n",
       "      <td>0.956039</td>\n",
       "      <td>0.955984</td>\n",
       "      <td>0.955734</td>\n",
       "      <td>...</td>\n",
       "      <td>0.999859</td>\n",
       "      <td>0.999910</td>\n",
       "      <td>0.999947</td>\n",
       "      <td>0.999976</td>\n",
       "      <td>0.999993</td>\n",
       "      <td>1.000000</td>\n",
       "      <td>0.999991</td>\n",
       "      <td>0.999963</td>\n",
       "      <td>0.999906</td>\n",
       "      <td>-0.089553</td>\n",
       "    </tr>\n",
       "    <tr>\n",
       "      <th>feature_198</th>\n",
       "      <td>0.953401</td>\n",
       "      <td>0.953848</td>\n",
       "      <td>0.954374</td>\n",
       "      <td>0.954938</td>\n",
       "      <td>0.955390</td>\n",
       "      <td>0.955813</td>\n",
       "      <td>0.956056</td>\n",
       "      <td>0.956166</td>\n",
       "      <td>0.956101</td>\n",
       "      <td>0.955840</td>\n",
       "      <td>...</td>\n",
       "      <td>0.999800</td>\n",
       "      <td>0.999858</td>\n",
       "      <td>0.999903</td>\n",
       "      <td>0.999942</td>\n",
       "      <td>0.999971</td>\n",
       "      <td>0.999991</td>\n",
       "      <td>1.000000</td>\n",
       "      <td>0.999989</td>\n",
       "      <td>0.999952</td>\n",
       "      <td>-0.090870</td>\n",
       "    </tr>\n",
       "    <tr>\n",
       "      <th>feature_199</th>\n",
       "      <td>0.953603</td>\n",
       "      <td>0.954046</td>\n",
       "      <td>0.954569</td>\n",
       "      <td>0.955129</td>\n",
       "      <td>0.955575</td>\n",
       "      <td>0.955993</td>\n",
       "      <td>0.956228</td>\n",
       "      <td>0.956331</td>\n",
       "      <td>0.956258</td>\n",
       "      <td>0.955987</td>\n",
       "      <td>...</td>\n",
       "      <td>0.999719</td>\n",
       "      <td>0.999782</td>\n",
       "      <td>0.999834</td>\n",
       "      <td>0.999885</td>\n",
       "      <td>0.999927</td>\n",
       "      <td>0.999963</td>\n",
       "      <td>0.999989</td>\n",
       "      <td>1.000000</td>\n",
       "      <td>0.999986</td>\n",
       "      <td>-0.092341</td>\n",
       "    </tr>\n",
       "    <tr>\n",
       "      <th>feature_200</th>\n",
       "      <td>0.953969</td>\n",
       "      <td>0.954408</td>\n",
       "      <td>0.954926</td>\n",
       "      <td>0.955482</td>\n",
       "      <td>0.955923</td>\n",
       "      <td>0.956337</td>\n",
       "      <td>0.956566</td>\n",
       "      <td>0.956665</td>\n",
       "      <td>0.956586</td>\n",
       "      <td>0.956311</td>\n",
       "      <td>...</td>\n",
       "      <td>0.999617</td>\n",
       "      <td>0.999684</td>\n",
       "      <td>0.999741</td>\n",
       "      <td>0.999801</td>\n",
       "      <td>0.999855</td>\n",
       "      <td>0.999906</td>\n",
       "      <td>0.999952</td>\n",
       "      <td>0.999986</td>\n",
       "      <td>1.000000</td>\n",
       "      <td>-0.093204</td>\n",
       "    </tr>\n",
       "    <tr>\n",
       "      <th>label</th>\n",
       "      <td>0.075679</td>\n",
       "      <td>0.075256</td>\n",
       "      <td>0.074647</td>\n",
       "      <td>0.073967</td>\n",
       "      <td>0.074005</td>\n",
       "      <td>0.074066</td>\n",
       "      <td>0.075048</td>\n",
       "      <td>0.076631</td>\n",
       "      <td>0.078812</td>\n",
       "      <td>0.081665</td>\n",
       "      <td>...</td>\n",
       "      <td>-0.078896</td>\n",
       "      <td>-0.081468</td>\n",
       "      <td>-0.083809</td>\n",
       "      <td>-0.086049</td>\n",
       "      <td>-0.087832</td>\n",
       "      <td>-0.089553</td>\n",
       "      <td>-0.090870</td>\n",
       "      <td>-0.092341</td>\n",
       "      <td>-0.093204</td>\n",
       "      <td>1.000000</td>\n",
       "    </tr>\n",
       "  </tbody>\n",
       "</table>\n",
       "<p>202 rows × 202 columns</p>\n",
       "</div>"
      ],
      "text/plain": [
       "             feature_0  feature_1  feature_2  feature_3  feature_4  feature_5  \\\n",
       "feature_0     1.000000   0.999996   0.999983   0.999962   0.999935   0.999899   \n",
       "feature_1     0.999996   1.000000   0.999995   0.999982   0.999962   0.999933   \n",
       "feature_2     0.999983   0.999995   1.000000   0.999995   0.999983   0.999961   \n",
       "feature_3     0.999962   0.999982   0.999995   1.000000   0.999995   0.999981   \n",
       "feature_4     0.999935   0.999962   0.999983   0.999995   1.000000   0.999995   \n",
       "...                ...        ...        ...        ...        ...        ...   \n",
       "feature_197   0.953239   0.953688   0.954218   0.954785   0.955243   0.955671   \n",
       "feature_198   0.953401   0.953848   0.954374   0.954938   0.955390   0.955813   \n",
       "feature_199   0.953603   0.954046   0.954569   0.955129   0.955575   0.955993   \n",
       "feature_200   0.953969   0.954408   0.954926   0.955482   0.955923   0.956337   \n",
       "label         0.075679   0.075256   0.074647   0.073967   0.074005   0.074066   \n",
       "\n",
       "             feature_6  feature_7  feature_8  feature_9  ...  feature_192  \\\n",
       "feature_0     0.999856   0.999798   0.999717   0.999595  ...     0.954457   \n",
       "feature_1     0.999896   0.999842   0.999764   0.999643  ...     0.954902   \n",
       "feature_2     0.999930   0.999881   0.999806   0.999686  ...     0.955428   \n",
       "feature_3     0.999957   0.999914   0.999843   0.999728  ...     0.955993   \n",
       "feature_4     0.999979   0.999944   0.999883   0.999776  ...     0.956460   \n",
       "...                ...        ...        ...        ...  ...          ...   \n",
       "feature_197   0.955920   0.956039   0.955984   0.955734  ...     0.999859   \n",
       "feature_198   0.956056   0.956166   0.956101   0.955840  ...     0.999800   \n",
       "feature_199   0.956228   0.956331   0.956258   0.955987  ...     0.999719   \n",
       "feature_200   0.956566   0.956665   0.956586   0.956311  ...     0.999617   \n",
       "label         0.075048   0.076631   0.078812   0.081665  ...    -0.078896   \n",
       "\n",
       "             feature_193  feature_194  feature_195  feature_196  feature_197  \\\n",
       "feature_0       0.953964     0.953602     0.953327     0.953226     0.953239   \n",
       "feature_1       0.954412     0.954052     0.953778     0.953677     0.953688   \n",
       "feature_2       0.954942     0.954584     0.954311     0.954209     0.954218   \n",
       "feature_3       0.955510     0.955154     0.954881     0.954778     0.954785   \n",
       "feature_4       0.955978     0.955621     0.955346     0.955240     0.955243   \n",
       "...                  ...          ...          ...          ...          ...   \n",
       "feature_197     0.999910     0.999947     0.999976     0.999993     1.000000   \n",
       "feature_198     0.999858     0.999903     0.999942     0.999971     0.999991   \n",
       "feature_199     0.999782     0.999834     0.999885     0.999927     0.999963   \n",
       "feature_200     0.999684     0.999741     0.999801     0.999855     0.999906   \n",
       "label          -0.081468    -0.083809    -0.086049    -0.087832    -0.089553   \n",
       "\n",
       "             feature_198  feature_199  feature_200     label  \n",
       "feature_0       0.953401     0.953603     0.953969  0.075679  \n",
       "feature_1       0.953848     0.954046     0.954408  0.075256  \n",
       "feature_2       0.954374     0.954569     0.954926  0.074647  \n",
       "feature_3       0.954938     0.955129     0.955482  0.073967  \n",
       "feature_4       0.955390     0.955575     0.955923  0.074005  \n",
       "...                  ...          ...          ...       ...  \n",
       "feature_197     0.999991     0.999963     0.999906 -0.089553  \n",
       "feature_198     1.000000     0.999989     0.999952 -0.090870  \n",
       "feature_199     0.999989     1.000000     0.999986 -0.092341  \n",
       "feature_200     0.999952     0.999986     1.000000 -0.093204  \n",
       "label          -0.090870    -0.092341    -0.093204  1.000000  \n",
       "\n",
       "[202 rows x 202 columns]"
      ]
     },
     "execution_count": 18,
     "metadata": {},
     "output_type": "execute_result"
    }
   ],
   "source": [
    "corr = df.corr()\n",
    "corr"
   ]
  },
  {
   "cell_type": "code",
   "execution_count": 19,
   "metadata": {},
   "outputs": [
    {
     "data": {
      "text/plain": [
       "feature_0      0.066885\n",
       "feature_1      0.066919\n",
       "feature_2      0.066963\n",
       "feature_3      0.067004\n",
       "feature_4      0.067051\n",
       "                 ...   \n",
       "feature_197    0.073909\n",
       "feature_198    0.073903\n",
       "feature_199    0.073894\n",
       "feature_200    0.073869\n",
       "label          0.998809\n",
       "Length: 202, dtype: float64"
      ]
     },
     "execution_count": 19,
     "metadata": {},
     "output_type": "execute_result"
    }
   ],
   "source": [
    "df.std(axis = 0, skipna = True) "
   ]
  },
  {
   "cell_type": "markdown",
   "metadata": {},
   "source": [
    "As we can see standard deviation of label feature is zero and it is due to we have an unbalnced "
   ]
  },
  {
   "cell_type": "code",
   "execution_count": null,
   "metadata": {},
   "outputs": [],
   "source": []
  },
  {
   "cell_type": "code",
   "execution_count": 20,
   "metadata": {},
   "outputs": [],
   "source": [
    "# Correlation heatmap\n",
    "cor = df.corr()\n",
    "\n",
    "cor_target = abs(cor[\"label\"])\n",
    "\n",
    "relevant_features = cor_target[cor_target>0.38]\n",
    "correlated_feature_variable_names = relevant_features.index"
   ]
  },
  {
   "cell_type": "code",
   "execution_count": 21,
   "metadata": {},
   "outputs": [
    {
     "data": {
      "text/plain": [
       "Index(['feature_127', 'feature_128', 'feature_129', 'feature_130',\n",
       "       'feature_131', 'feature_132', 'feature_133', 'feature_134',\n",
       "       'feature_135', 'feature_136', 'feature_137', 'feature_138',\n",
       "       'feature_139', 'feature_140', 'feature_141', 'feature_142',\n",
       "       'feature_143', 'feature_144', 'feature_145', 'feature_146', 'label'],\n",
       "      dtype='object')"
      ]
     },
     "execution_count": 21,
     "metadata": {},
     "output_type": "execute_result"
    }
   ],
   "source": [
    "correlated_feature_variable_names"
   ]
  },
  {
   "cell_type": "code",
   "execution_count": 22,
   "metadata": {},
   "outputs": [
    {
     "data": {
      "text/html": [
       "<div>\n",
       "<style scoped>\n",
       "    .dataframe tbody tr th:only-of-type {\n",
       "        vertical-align: middle;\n",
       "    }\n",
       "\n",
       "    .dataframe tbody tr th {\n",
       "        vertical-align: top;\n",
       "    }\n",
       "\n",
       "    .dataframe thead th {\n",
       "        text-align: right;\n",
       "    }\n",
       "</style>\n",
       "<table border=\"1\" class=\"dataframe\">\n",
       "  <thead>\n",
       "    <tr style=\"text-align: right;\">\n",
       "      <th></th>\n",
       "      <th>feature_127</th>\n",
       "      <th>feature_128</th>\n",
       "      <th>feature_129</th>\n",
       "      <th>feature_130</th>\n",
       "      <th>feature_131</th>\n",
       "      <th>feature_132</th>\n",
       "      <th>feature_133</th>\n",
       "      <th>feature_134</th>\n",
       "      <th>feature_135</th>\n",
       "      <th>feature_136</th>\n",
       "      <th>...</th>\n",
       "      <th>feature_138</th>\n",
       "      <th>feature_139</th>\n",
       "      <th>feature_140</th>\n",
       "      <th>feature_141</th>\n",
       "      <th>feature_142</th>\n",
       "      <th>feature_143</th>\n",
       "      <th>feature_144</th>\n",
       "      <th>feature_145</th>\n",
       "      <th>feature_146</th>\n",
       "      <th>label</th>\n",
       "    </tr>\n",
       "  </thead>\n",
       "  <tbody>\n",
       "    <tr>\n",
       "      <th>0</th>\n",
       "      <td>0.3870</td>\n",
       "      <td>0.3901</td>\n",
       "      <td>0.3931</td>\n",
       "      <td>0.3959</td>\n",
       "      <td>0.3988</td>\n",
       "      <td>0.4016</td>\n",
       "      <td>0.4042</td>\n",
       "      <td>0.4068</td>\n",
       "      <td>0.4093</td>\n",
       "      <td>0.4117</td>\n",
       "      <td>...</td>\n",
       "      <td>0.4166</td>\n",
       "      <td>0.4189</td>\n",
       "      <td>0.4210</td>\n",
       "      <td>0.4231</td>\n",
       "      <td>0.4252</td>\n",
       "      <td>0.4273</td>\n",
       "      <td>0.4292</td>\n",
       "      <td>0.4311</td>\n",
       "      <td>0.4329</td>\n",
       "      <td>-1</td>\n",
       "    </tr>\n",
       "    <tr>\n",
       "      <th>1</th>\n",
       "      <td>0.5625</td>\n",
       "      <td>0.5650</td>\n",
       "      <td>0.5672</td>\n",
       "      <td>0.5693</td>\n",
       "      <td>0.5710</td>\n",
       "      <td>0.5724</td>\n",
       "      <td>0.5736</td>\n",
       "      <td>0.5745</td>\n",
       "      <td>0.5751</td>\n",
       "      <td>0.5757</td>\n",
       "      <td>...</td>\n",
       "      <td>0.5765</td>\n",
       "      <td>0.5770</td>\n",
       "      <td>0.5773</td>\n",
       "      <td>0.5779</td>\n",
       "      <td>0.5785</td>\n",
       "      <td>0.5792</td>\n",
       "      <td>0.5799</td>\n",
       "      <td>0.5809</td>\n",
       "      <td>0.5818</td>\n",
       "      <td>-1</td>\n",
       "    </tr>\n",
       "    <tr>\n",
       "      <th>2</th>\n",
       "      <td>0.5657</td>\n",
       "      <td>0.5687</td>\n",
       "      <td>0.5715</td>\n",
       "      <td>0.5737</td>\n",
       "      <td>0.5758</td>\n",
       "      <td>0.5776</td>\n",
       "      <td>0.5790</td>\n",
       "      <td>0.5803</td>\n",
       "      <td>0.5813</td>\n",
       "      <td>0.5824</td>\n",
       "      <td>...</td>\n",
       "      <td>0.5839</td>\n",
       "      <td>0.5848</td>\n",
       "      <td>0.5855</td>\n",
       "      <td>0.5863</td>\n",
       "      <td>0.5873</td>\n",
       "      <td>0.5882</td>\n",
       "      <td>0.5892</td>\n",
       "      <td>0.5902</td>\n",
       "      <td>0.5912</td>\n",
       "      <td>-1</td>\n",
       "    </tr>\n",
       "    <tr>\n",
       "      <th>3</th>\n",
       "      <td>0.6096</td>\n",
       "      <td>0.6124</td>\n",
       "      <td>0.6152</td>\n",
       "      <td>0.6176</td>\n",
       "      <td>0.6197</td>\n",
       "      <td>0.6214</td>\n",
       "      <td>0.6228</td>\n",
       "      <td>0.6240</td>\n",
       "      <td>0.6248</td>\n",
       "      <td>0.6257</td>\n",
       "      <td>...</td>\n",
       "      <td>0.6268</td>\n",
       "      <td>0.6272</td>\n",
       "      <td>0.6277</td>\n",
       "      <td>0.6284</td>\n",
       "      <td>0.6291</td>\n",
       "      <td>0.6299</td>\n",
       "      <td>0.6307</td>\n",
       "      <td>0.6318</td>\n",
       "      <td>0.6329</td>\n",
       "      <td>-1</td>\n",
       "    </tr>\n",
       "    <tr>\n",
       "      <th>4</th>\n",
       "      <td>0.5368</td>\n",
       "      <td>0.5394</td>\n",
       "      <td>0.5416</td>\n",
       "      <td>0.5435</td>\n",
       "      <td>0.5453</td>\n",
       "      <td>0.5467</td>\n",
       "      <td>0.5478</td>\n",
       "      <td>0.5488</td>\n",
       "      <td>0.5496</td>\n",
       "      <td>0.5502</td>\n",
       "      <td>...</td>\n",
       "      <td>0.5514</td>\n",
       "      <td>0.5521</td>\n",
       "      <td>0.5526</td>\n",
       "      <td>0.5534</td>\n",
       "      <td>0.5543</td>\n",
       "      <td>0.5551</td>\n",
       "      <td>0.5561</td>\n",
       "      <td>0.5572</td>\n",
       "      <td>0.5584</td>\n",
       "      <td>-1</td>\n",
       "    </tr>\n",
       "  </tbody>\n",
       "</table>\n",
       "<p>5 rows × 21 columns</p>\n",
       "</div>"
      ],
      "text/plain": [
       "   feature_127  feature_128  feature_129  feature_130  feature_131  \\\n",
       "0       0.3870       0.3901       0.3931       0.3959       0.3988   \n",
       "1       0.5625       0.5650       0.5672       0.5693       0.5710   \n",
       "2       0.5657       0.5687       0.5715       0.5737       0.5758   \n",
       "3       0.6096       0.6124       0.6152       0.6176       0.6197   \n",
       "4       0.5368       0.5394       0.5416       0.5435       0.5453   \n",
       "\n",
       "   feature_132  feature_133  feature_134  feature_135  feature_136  ...  \\\n",
       "0       0.4016       0.4042       0.4068       0.4093       0.4117  ...   \n",
       "1       0.5724       0.5736       0.5745       0.5751       0.5757  ...   \n",
       "2       0.5776       0.5790       0.5803       0.5813       0.5824  ...   \n",
       "3       0.6214       0.6228       0.6240       0.6248       0.6257  ...   \n",
       "4       0.5467       0.5478       0.5488       0.5496       0.5502  ...   \n",
       "\n",
       "   feature_138  feature_139  feature_140  feature_141  feature_142  \\\n",
       "0       0.4166       0.4189       0.4210       0.4231       0.4252   \n",
       "1       0.5765       0.5770       0.5773       0.5779       0.5785   \n",
       "2       0.5839       0.5848       0.5855       0.5863       0.5873   \n",
       "3       0.6268       0.6272       0.6277       0.6284       0.6291   \n",
       "4       0.5514       0.5521       0.5526       0.5534       0.5543   \n",
       "\n",
       "   feature_143  feature_144  feature_145  feature_146  label  \n",
       "0       0.4273       0.4292       0.4311       0.4329     -1  \n",
       "1       0.5792       0.5799       0.5809       0.5818     -1  \n",
       "2       0.5882       0.5892       0.5902       0.5912     -1  \n",
       "3       0.6299       0.6307       0.6318       0.6329     -1  \n",
       "4       0.5551       0.5561       0.5572       0.5584     -1  \n",
       "\n",
       "[5 rows x 21 columns]"
      ]
     },
     "execution_count": 22,
     "metadata": {},
     "output_type": "execute_result"
    }
   ],
   "source": [
    "test = df[correlated_feature_variable_names]\n",
    "test.head()"
   ]
  },
  {
   "cell_type": "code",
   "execution_count": 42,
   "metadata": {},
   "outputs": [
    {
     "name": "stdout",
     "output_type": "stream",
     "text": [
      "(622, 202) (208, 202) (208, 202)\n"
     ]
    }
   ],
   "source": [
    "train, test, validate = np.split(df.sample(frac=1), [int(.6*len(df)), int(.8*len(df))])\n",
    "print (train.shape, test.shape, validate.shape)\n",
    "\n",
    "# Separate target and predictors\n",
    "y_train = train['label'].values\n",
    "x_train = train.drop(['label'], axis=1).values\n",
    "y_test = test['label'].values\n",
    "x_test = test.drop(['label'], axis=1).values\n",
    "y_validate = validate['label'].values\n",
    "x_validate = validate.drop(['label'], axis=1).values\n"
   ]
  },
  {
   "cell_type": "markdown",
   "metadata": {},
   "source": [
    "### Logistic Regression"
   ]
  },
  {
   "cell_type": "code",
   "execution_count": 43,
   "metadata": {},
   "outputs": [],
   "source": [
    "logit_model = LogisticRegression()\n",
    "logit_model = logit_model.fit(x_train, y_train)\n",
    "logit_model.score(x_train, y_train)\n",
    "predicted = pd.DataFrame(logit_model.predict(x_test))\n",
    "probs = pd.DataFrame(logit_model.predict_proba(x_test))\n",
    "\n",
    "\n",
    "# Store metrics\n",
    "logit_accuracy  = metrics.accuracy_score(y_test, predicted)\n",
    "logit_roc_auc = metrics.roc_auc_score(y_test, probs[1])\n",
    "logit_confus_matrix = metrics.confusion_matrix(y_test, predicted)\n",
    "logit_classification_report = metrics.classification_report(y_test, predicted)\n",
    "logit_precision = metrics.precision_score(y_test, predicted, pos_label=1)\n",
    "logit_recall = metrics.recall_score(y_test, predicted, pos_label=1)\n",
    "logit_f1 = metrics.f1_score(y_test, predicted, pos_label=1)\n",
    "\n",
    "# evaluate the model using 10-fold cross-validation\n",
    "logit_cv_scores = cross_val_score(tree.DecisionTreeClassifier(max_depth=3), x_test, y_test, scoring='precision', cv=10)\n",
    "logit_cv_mean = np.mean(logit_cv_scores)"
   ]
  },
  {
   "cell_type": "code",
   "execution_count": 44,
   "metadata": {},
   "outputs": [
    {
     "name": "stdout",
     "output_type": "stream",
     "text": [
      "[[ 64  26]\n",
      " [  0 118]]\n"
     ]
    }
   ],
   "source": [
    "print( metrics.confusion_matrix(y_test, predicted))"
   ]
  },
  {
   "cell_type": "code",
   "execution_count": 49,
   "metadata": {},
   "outputs": [
    {
     "data": {
      "text/html": [
       "<div>\n",
       "<style scoped>\n",
       "    .dataframe tbody tr th:only-of-type {\n",
       "        vertical-align: middle;\n",
       "    }\n",
       "\n",
       "    .dataframe tbody tr th {\n",
       "        vertical-align: top;\n",
       "    }\n",
       "\n",
       "    .dataframe thead th {\n",
       "        text-align: right;\n",
       "    }\n",
       "</style>\n",
       "<table border=\"1\" class=\"dataframe\">\n",
       "  <thead>\n",
       "    <tr style=\"text-align: right;\">\n",
       "      <th></th>\n",
       "      <th>0</th>\n",
       "      <th>1</th>\n",
       "    </tr>\n",
       "  </thead>\n",
       "  <tbody>\n",
       "    <tr>\n",
       "      <th>0</th>\n",
       "      <td>0.185635</td>\n",
       "      <td>0.814365</td>\n",
       "    </tr>\n",
       "    <tr>\n",
       "      <th>1</th>\n",
       "      <td>0.125825</td>\n",
       "      <td>0.874175</td>\n",
       "    </tr>\n",
       "    <tr>\n",
       "      <th>2</th>\n",
       "      <td>0.208399</td>\n",
       "      <td>0.791601</td>\n",
       "    </tr>\n",
       "    <tr>\n",
       "      <th>3</th>\n",
       "      <td>0.350463</td>\n",
       "      <td>0.649537</td>\n",
       "    </tr>\n",
       "    <tr>\n",
       "      <th>4</th>\n",
       "      <td>0.301491</td>\n",
       "      <td>0.698509</td>\n",
       "    </tr>\n",
       "    <tr>\n",
       "      <th>...</th>\n",
       "      <td>...</td>\n",
       "      <td>...</td>\n",
       "    </tr>\n",
       "    <tr>\n",
       "      <th>203</th>\n",
       "      <td>0.293183</td>\n",
       "      <td>0.706817</td>\n",
       "    </tr>\n",
       "    <tr>\n",
       "      <th>204</th>\n",
       "      <td>0.233904</td>\n",
       "      <td>0.766096</td>\n",
       "    </tr>\n",
       "    <tr>\n",
       "      <th>205</th>\n",
       "      <td>0.196107</td>\n",
       "      <td>0.803893</td>\n",
       "    </tr>\n",
       "    <tr>\n",
       "      <th>206</th>\n",
       "      <td>0.975349</td>\n",
       "      <td>0.024651</td>\n",
       "    </tr>\n",
       "    <tr>\n",
       "      <th>207</th>\n",
       "      <td>0.236728</td>\n",
       "      <td>0.763272</td>\n",
       "    </tr>\n",
       "  </tbody>\n",
       "</table>\n",
       "<p>208 rows × 2 columns</p>\n",
       "</div>"
      ],
      "text/plain": [
       "            0         1\n",
       "0    0.185635  0.814365\n",
       "1    0.125825  0.874175\n",
       "2    0.208399  0.791601\n",
       "3    0.350463  0.649537\n",
       "4    0.301491  0.698509\n",
       "..        ...       ...\n",
       "203  0.293183  0.706817\n",
       "204  0.233904  0.766096\n",
       "205  0.196107  0.803893\n",
       "206  0.975349  0.024651\n",
       "207  0.236728  0.763272\n",
       "\n",
       "[208 rows x 2 columns]"
      ]
     },
     "execution_count": 49,
     "metadata": {},
     "output_type": "execute_result"
    }
   ],
   "source": [
    "probs"
   ]
  },
  {
   "cell_type": "code",
   "execution_count": 52,
   "metadata": {},
   "outputs": [
    {
     "data": {
      "text/plain": [
       "<sklearn.metrics._plot.roc_curve.RocCurveDisplay at 0x7fb353ae4dd8>"
      ]
     },
     "execution_count": 52,
     "metadata": {},
     "output_type": "execute_result"
    },
    {
     "data": {
      "image/png": "[encoded data removed]",
      "text/plain": [
       "<Figure size 432x288 with 1 Axes>"
      ]
     },
     "metadata": {
      "needs_background": "light"
     },
     "output_type": "display_data"
    }
   ],
   "source": [
    "metrics.plot_roc_curve(logit_model, x_test, y_test)  \n"
   ]
  },
  {
   "cell_type": "markdown",
   "metadata": {},
   "source": [
    "### Decision Tree"
   ]
  },
  {
   "cell_type": "code",
   "execution_count": 26,
   "metadata": {},
   "outputs": [],
   "source": [
    "import graphviz\n",
    "tree_model = tree.DecisionTreeClassifier(max_depth=3)\n",
    "tree_model = tree_model.fit(x_train, y_train)\n",
    "tree_model.score(x_train, y_train)\n",
    "\n",
    "\n",
    "predicted = pd.DataFrame(tree_model.predict(x_test))\n",
    "probs = pd.DataFrame(tree_model.predict_proba(x_test))\n",
    "\n",
    "# Store metrics\n",
    "tree_accuracy = metrics.accuracy_score(y_test, predicted)\n",
    "tree_roc_auc = metrics.roc_auc_score(y_test, probs[1])\n",
    "tree_confus_matrix = metrics.confusion_matrix(y_test, predicted)\n",
    "tree_classification_report = metrics.classification_report(y_test, predicted)\n",
    "tree_precision = metrics.precision_score(y_test, predicted, pos_label=1)\n",
    "tree_recall = metrics.recall_score(y_test, predicted, pos_label=1)\n",
    "tree_f1 = metrics.f1_score(y_test, predicted, pos_label=1)\n",
    "\n",
    "# evaluate the model using 10-fold cross-validation\n",
    "tree_cv_scores = cross_val_score(tree.DecisionTreeClassifier(max_depth=3), x_test, y_test, scoring='precision', cv=10)\n",
    "tree_cv_mean = np.mean(tree_cv_scores)"
   ]
  },
  {
   "cell_type": "code",
   "execution_count": 27,
   "metadata": {},
   "outputs": [
    {
     "name": "stdout",
     "output_type": "stream",
     "text": [
      "[[103   8]\n",
      " [  0  97]]\n"
     ]
    }
   ],
   "source": [
    "print( metrics.confusion_matrix(y_test, predicted))"
   ]
  },
  {
   "cell_type": "code",
   "execution_count": 58,
   "metadata": {},
   "outputs": [
    {
     "data": {
      "text/plain": [
       "<sklearn.metrics._plot.roc_curve.RocCurveDisplay at 0x7fb353b53a58>"
      ]
     },
     "execution_count": 58,
     "metadata": {},
     "output_type": "execute_result"
    },
    {
     "data": {
      "image/png": "[encoded data removed]",
      "text/plain": [
       "<Figure size 432x288 with 1 Axes>"
      ]
     },
     "metadata": {
      "needs_background": "light"
     },
     "output_type": "display_data"
    }
   ],
   "source": [
    "metrics.plot_roc_curve(tree_model, x_test, y_test)"
   ]
  },
  {
   "cell_type": "markdown",
   "metadata": {},
   "source": [
    "### Random Forest"
   ]
  },
  {
   "cell_type": "code",
   "execution_count": 28,
   "metadata": {},
   "outputs": [],
   "source": [
    "rf = RandomForestClassifier()    \n",
    "rf_model = rf.fit(x_train, y_train)\n",
    "rf_model.score(x_train, y_train)\n",
    "\n",
    "# Predictions/probs on the test dataset\n",
    "predicted = pd.DataFrame(rf_model.predict(x_test))\n",
    "probs = pd.DataFrame(rf_model.predict_proba(x_test))\n",
    "\n",
    "# Store metrics\n",
    "rf_accuracy = metrics.accuracy_score(y_test, predicted)\n",
    "rf_roc_auc = metrics.roc_auc_score(y_test, probs[1])\n",
    "rf_confus_matrix = metrics.confusion_matrix(y_test, predicted)\n",
    "rf_classification_report = metrics.classification_report(y_test, predicted)\n",
    "rf_precision = metrics.precision_score(y_test, predicted, pos_label=1)\n",
    "rf_recall = metrics.recall_score(y_test, predicted, pos_label=1)\n",
    "rf_f1 = metrics.f1_score(y_test, predicted, pos_label=1)\n",
    "\n",
    "# Evaluate the model using 10-fold cross-validation\n",
    "rf_cv_scores = cross_val_score(RandomForestClassifier(), x_test, y_test, scoring='precision', cv=10)\n",
    "rf_cv_mean = np.mean(rf_cv_scores)"
   ]
  },
  {
   "cell_type": "code",
   "execution_count": 29,
   "metadata": {},
   "outputs": [
    {
     "name": "stdout",
     "output_type": "stream",
     "text": [
      "[[108   3]\n",
      " [  0  97]]\n"
     ]
    }
   ],
   "source": [
    "print( metrics.confusion_matrix(y_test, predicted))"
   ]
  },
  {
   "cell_type": "code",
   "execution_count": 59,
   "metadata": {},
   "outputs": [
    {
     "data": {
      "text/plain": [
       "<sklearn.metrics._plot.roc_curve.RocCurveDisplay at 0x7fb353e483c8>"
      ]
     },
     "execution_count": 59,
     "metadata": {},
     "output_type": "execute_result"
    },
    {
     "data": {
      "image/png": "[encoded data removed]",
      "text/plain": [
       "<Figure size 432x288 with 1 Axes>"
      ]
     },
     "metadata": {
      "needs_background": "light"
     },
     "output_type": "display_data"
    }
   ],
   "source": [
    "metrics.plot_roc_curve(rf_model, x_test, y_test)"
   ]
  },
  {
   "cell_type": "markdown",
   "metadata": {},
   "source": [
    "### SUPPORT VECTOR MACHINE"
   ]
  },
  {
   "cell_type": "code",
   "execution_count": 30,
   "metadata": {},
   "outputs": [],
   "source": [
    "svm_model = SVC(probability=True)\n",
    "svm_model = svm_model.fit(x_train, y_train)\n",
    "svm_model.score(x_train, y_train)\n",
    "\n",
    "# Predictions/probs on the test dataset\n",
    "predicted = pd.DataFrame(svm_model.predict(x_test))\n",
    "probs = pd.DataFrame(svm_model.predict_proba(x_test))\n",
    "\n",
    "# Store metrics\n",
    "svm_accuracy = metrics.accuracy_score(y_test, predicted)\n",
    "svm_roc_auc = metrics.roc_auc_score(y_test, probs[1])\n",
    "svm_confus_matrix = metrics.confusion_matrix(y_test, predicted)\n",
    "svm_classification_report = metrics.classification_report(y_test, predicted)\n",
    "svm_precision = metrics.precision_score(y_test, predicted, pos_label=1)\n",
    "svm_recall = metrics.recall_score(y_test, predicted, pos_label=1)\n",
    "svm_f1 = metrics.f1_score(y_test, predicted, pos_label=1)\n",
    "\n",
    "# Evaluate the model using 10-fold cross-validation\n",
    "svm_cv_scores = cross_val_score(SVC(probability=True), x_test, y_test, scoring='precision', cv=10)\n",
    "svm_cv_mean = np.mean(svm_cv_scores)"
   ]
  },
  {
   "cell_type": "code",
   "execution_count": 31,
   "metadata": {},
   "outputs": [
    {
     "name": "stdout",
     "output_type": "stream",
     "text": [
      "[[98 13]\n",
      " [ 0 97]]\n"
     ]
    }
   ],
   "source": [
    "print( metrics.confusion_matrix(y_test, predicted))"
   ]
  },
  {
   "cell_type": "code",
   "execution_count": 60,
   "metadata": {},
   "outputs": [
    {
     "data": {
      "text/plain": [
       "<sklearn.metrics._plot.roc_curve.RocCurveDisplay at 0x7fb353b65c50>"
      ]
     },
     "execution_count": 60,
     "metadata": {},
     "output_type": "execute_result"
    },
    {
     "data": {
      "image/png": "[encoded data removed]",
      "text/plain": [
       "<Figure size 432x288 with 1 Axes>"
      ]
     },
     "metadata": {
      "needs_background": "light"
     },
     "output_type": "display_data"
    }
   ],
   "source": [
    "metrics.plot_roc_curve(svm_model, x_test, y_test)"
   ]
  },
  {
   "cell_type": "markdown",
   "metadata": {},
   "source": [
    "### KNN"
   ]
  },
  {
   "cell_type": "code",
   "execution_count": 32,
   "metadata": {},
   "outputs": [],
   "source": [
    "# instantiate learning model (k = 3)\n",
    "knn_model = KNeighborsClassifier(n_neighbors=3)\n",
    "# fit the model\n",
    "knn_model.fit(x_train, y_train)\n",
    "# Accuracy\n",
    "knn_model.score(x_train, y_train)\n",
    "\n",
    "# Predictions/probs on the test dataset\n",
    "predicted = pd.DataFrame(knn_model.predict(x_test))\n",
    "probs = pd.DataFrame(knn_model.predict_proba(x_test))\n",
    "\n",
    "# Store metrics\n",
    "knn_accuracy = metrics.accuracy_score(y_test, predicted)\n",
    "knn_roc_auc = metrics.roc_auc_score(y_test, probs[1])\n",
    "knn_confus_matrix = metrics.confusion_matrix(y_test, predicted)\n",
    "knn_classification_report = metrics.classification_report(y_test, predicted)\n",
    "knn_precision = metrics.precision_score(y_test, predicted, pos_label=1)\n",
    "knn_recall = metrics.recall_score(y_test, predicted, pos_label=1)\n",
    "knn_f1 = metrics.f1_score(y_test, predicted, pos_label=1)\n",
    "\n",
    "# Evaluate the model using 10-fold cross-validation\n",
    "knn_cv_scores = cross_val_score(KNeighborsClassifier(n_neighbors=3), x_test, y_test, scoring='precision', cv=10)\n",
    "knn_cv_mean = np.mean(knn_cv_scores)"
   ]
  },
  {
   "cell_type": "code",
   "execution_count": 33,
   "metadata": {},
   "outputs": [
    {
     "name": "stdout",
     "output_type": "stream",
     "text": [
      "[[105   6]\n",
      " [  0  97]]\n"
     ]
    }
   ],
   "source": [
    "print( metrics.confusion_matrix(y_test, predicted))"
   ]
  },
  {
   "cell_type": "code",
   "execution_count": 62,
   "metadata": {},
   "outputs": [
    {
     "data": {
      "text/plain": [
       "<sklearn.metrics._plot.roc_curve.RocCurveDisplay at 0x7fb353b46a20>"
      ]
     },
     "execution_count": 62,
     "metadata": {},
     "output_type": "execute_result"
    },
    {
     "data": {
      "image/png": "[encoded data removed]",
      "text/plain": [
       "<Figure size 432x288 with 1 Axes>"
      ]
     },
     "metadata": {
      "needs_background": "light"
     },
     "output_type": "display_data"
    }
   ],
   "source": [
    "metrics.plot_roc_curve(knn_model, x_test, y_test)"
   ]
  },
  {
   "cell_type": "markdown",
   "metadata": {},
   "source": [
    "### Results"
   ]
  },
  {
   "cell_type": "code",
   "execution_count": 71,
   "metadata": {},
   "outputs": [
    {
     "data": {
      "text/html": [
       "<div>\n",
       "<style scoped>\n",
       "    .dataframe tbody tr th:only-of-type {\n",
       "        vertical-align: middle;\n",
       "    }\n",
       "\n",
       "    .dataframe tbody tr th {\n",
       "        vertical-align: top;\n",
       "    }\n",
       "\n",
       "    .dataframe thead th {\n",
       "        text-align: right;\n",
       "    }\n",
       "</style>\n",
       "<table border=\"1\" class=\"dataframe\">\n",
       "  <thead>\n",
       "    <tr style=\"text-align: right;\">\n",
       "      <th></th>\n",
       "      <th>Model</th>\n",
       "      <th>Accuracy</th>\n",
       "      <th>Precision</th>\n",
       "      <th>recall</th>\n",
       "      <th>F1</th>\n",
       "      <th>cv_precision</th>\n",
       "    </tr>\n",
       "  </thead>\n",
       "  <tbody>\n",
       "    <tr>\n",
       "      <th>2</th>\n",
       "      <td>Random.Forest.</td>\n",
       "      <td>0.990385</td>\n",
       "      <td>0.982456</td>\n",
       "      <td>1.0</td>\n",
       "      <td>0.991150</td>\n",
       "      <td>0.929487</td>\n",
       "    </tr>\n",
       "    <tr>\n",
       "      <th>4</th>\n",
       "      <td>kNN</td>\n",
       "      <td>0.971154</td>\n",
       "      <td>0.949153</td>\n",
       "      <td>1.0</td>\n",
       "      <td>0.973913</td>\n",
       "      <td>0.915110</td>\n",
       "    </tr>\n",
       "    <tr>\n",
       "      <th>1</th>\n",
       "      <td>Decision Tree</td>\n",
       "      <td>0.966346</td>\n",
       "      <td>0.941176</td>\n",
       "      <td>1.0</td>\n",
       "      <td>0.969697</td>\n",
       "      <td>0.929487</td>\n",
       "    </tr>\n",
       "    <tr>\n",
       "      <th>3</th>\n",
       "      <td>SVM</td>\n",
       "      <td>0.932692</td>\n",
       "      <td>0.888889</td>\n",
       "      <td>1.0</td>\n",
       "      <td>0.941176</td>\n",
       "      <td>0.886795</td>\n",
       "    </tr>\n",
       "    <tr>\n",
       "      <th>0</th>\n",
       "      <td>Logistic</td>\n",
       "      <td>0.899038</td>\n",
       "      <td>0.842105</td>\n",
       "      <td>1.0</td>\n",
       "      <td>0.914286</td>\n",
       "      <td>0.929487</td>\n",
       "    </tr>\n",
       "  </tbody>\n",
       "</table>\n",
       "</div>"
      ],
      "text/plain": [
       "            Model  Accuracy  Precision  recall        F1  cv_precision\n",
       "2  Random.Forest.  0.990385   0.982456     1.0  0.991150      0.929487\n",
       "4             kNN  0.971154   0.949153     1.0  0.973913      0.915110\n",
       "1   Decision Tree  0.966346   0.941176     1.0  0.969697      0.929487\n",
       "3             SVM  0.932692   0.888889     1.0  0.941176      0.886795\n",
       "0        Logistic  0.899038   0.842105     1.0  0.914286      0.929487"
      ]
     },
     "execution_count": 71,
     "metadata": {},
     "output_type": "execute_result"
    }
   ],
   "source": [
    "# Model comparison\n",
    "models = pd.DataFrame({\n",
    "  'Model': ['Logistic', 'Decision Tree', 'Random.Forest.', 'SVM', 'kNN'],\n",
    "  'Accuracy' : [logit_accuracy, tree_accuracy, rf_accuracy, svm_accuracy, knn_accuracy],\n",
    "  'Precision': [logit_precision, tree_precision, rf_precision, svm_precision, knn_precision],\n",
    "  'recall' : [logit_recall, tree_recall, rf_recall, svm_recall, knn_recall],\n",
    "  'F1' : [logit_f1, tree_f1, rf_f1, svm_f1, knn_f1],\n",
    "  'cv_precision' : [logit_cv_mean, tree_cv_mean, rf_cv_mean, svm_cv_mean, knn_cv_mean]\n",
    "})\n",
    "# Print table and sort by test precision\n",
    "models.sort_values(by='Precision', ascending=False)\n"
   ]
  },
  {
   "cell_type": "markdown",
   "metadata": {},
   "source": [
    "## Summarising Results \n"
   ]
  },
  {
   "cell_type": "markdown",
   "metadata": {},
   "source": [
    "From the above results table, it is clear the Random Forest is the best model based on Accuracy, Precision and Recall metrics. The performance is so good, that I would be concerned about overfitting and a lack of generalisation to future periods of data. However, the classifier was evaluated with K-folds cross-validation (K=10) and also evaluated on the test dataset."
   ]
  }
 ],
 "metadata": {
  "kernelspec": {
   "display_name": "Python 3",
   "language": "python",
   "name": "python3"
  },
  "language_info": {
   "codemirror_mode": {
    "name": "ipython",
    "version": 3
   },
   "file_extension": ".py",
   "mimetype": "text/x-python",
   "name": "python",
   "nbconvert_exporter": "python",
   "pygments_lexer": "ipython3",
   "version": "3.6.9"
  }
 },
 "nbformat": 4,
 "nbformat_minor": 4
}
